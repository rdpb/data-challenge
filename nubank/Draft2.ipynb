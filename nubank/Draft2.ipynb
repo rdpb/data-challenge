{
 "cells": [
  {
   "cell_type": "code",
   "execution_count": 1,
   "metadata": {},
   "outputs": [],
   "source": [
    "import pandas as pd\n",
    "import numpy as np\n",
    "from ast import literal_eval\n",
    "#from mpl_toolkits.basemap import Basemap\n",
    "import matplotlib.pyplot as plt\n",
    "\n",
    "from sklearn.ensemble import RandomForestClassifier\n",
    "from sklearn.model_selection import train_test_split, cross_val_score, cross_val_predict, GridSearchCV, StratifiedKFold\n",
    "from sklearn.metrics import make_scorer, accuracy_score, roc_auc_score\n",
    "\n",
    "%matplotlib inline"
   ]
  },
  {
   "cell_type": "code",
   "execution_count": 51,
   "metadata": {},
   "outputs": [],
   "source": [
    "spend_train = pd.read_csv('data/spend_train.csv')\n",
    "acq_train = pd.read_csv('data/acquisition_train.csv', parse_dates=True)\n",
    "acq_test= pd.read_csv('data/acquisition_test.csv', parse_dates=True)"
   ]
  },
  {
   "cell_type": "code",
   "execution_count": 3,
   "metadata": {},
   "outputs": [
    {
     "name": "stdout",
     "output_type": "stream",
     "text": [
      "<class 'pandas.core.frame.DataFrame'>\n",
      "RangeIndex: 980818 entries, 0 to 980817\n",
      "Data columns (total 7 columns):\n",
      "ids                  980818 non-null object\n",
      "credit_line          980818 non-null int64\n",
      "month                980818 non-null int64\n",
      "spends               980818 non-null float64\n",
      "revolving_balance    980818 non-null float64\n",
      "card_request         980818 non-null int64\n",
      "minutes_cs           980818 non-null float64\n",
      "dtypes: float64(3), int64(3), object(1)\n",
      "memory usage: 52.4+ MB\n"
     ]
    }
   ],
   "source": [
    "spend_train.info()"
   ]
  },
  {
   "cell_type": "code",
   "execution_count": 5,
   "metadata": {},
   "outputs": [
    {
     "data": {
      "text/html": [
       "<div>\n",
       "<style scoped>\n",
       "    .dataframe tbody tr th:only-of-type {\n",
       "        vertical-align: middle;\n",
       "    }\n",
       "\n",
       "    .dataframe tbody tr th {\n",
       "        vertical-align: top;\n",
       "    }\n",
       "\n",
       "    .dataframe thead th {\n",
       "        text-align: right;\n",
       "    }\n",
       "</style>\n",
       "<table border=\"1\" class=\"dataframe\">\n",
       "  <thead>\n",
       "    <tr style=\"text-align: right;\">\n",
       "      <th></th>\n",
       "      <th>credit_line</th>\n",
       "      <th>month</th>\n",
       "      <th>spends</th>\n",
       "      <th>revolving_balance</th>\n",
       "      <th>card_request</th>\n",
       "      <th>minutes_cs</th>\n",
       "    </tr>\n",
       "  </thead>\n",
       "  <tbody>\n",
       "    <tr>\n",
       "      <th>count</th>\n",
       "      <td>980818.000000</td>\n",
       "      <td>980818.000000</td>\n",
       "      <td>980818.000000</td>\n",
       "      <td>980818.000000</td>\n",
       "      <td>980818.000000</td>\n",
       "      <td>980818.000000</td>\n",
       "    </tr>\n",
       "    <tr>\n",
       "      <th>mean</th>\n",
       "      <td>6450.701643</td>\n",
       "      <td>12.103346</td>\n",
       "      <td>2878.074202</td>\n",
       "      <td>481.071351</td>\n",
       "      <td>0.092795</td>\n",
       "      <td>2.791051</td>\n",
       "    </tr>\n",
       "    <tr>\n",
       "      <th>std</th>\n",
       "      <td>4564.596250</td>\n",
       "      <td>8.515882</td>\n",
       "      <td>3529.032134</td>\n",
       "      <td>1431.827450</td>\n",
       "      <td>0.290145</td>\n",
       "      <td>6.644611</td>\n",
       "    </tr>\n",
       "    <tr>\n",
       "      <th>min</th>\n",
       "      <td>506.000000</td>\n",
       "      <td>0.000000</td>\n",
       "      <td>0.000000</td>\n",
       "      <td>0.000000</td>\n",
       "      <td>0.000000</td>\n",
       "      <td>0.000000</td>\n",
       "    </tr>\n",
       "    <tr>\n",
       "      <th>25%</th>\n",
       "      <td>2948.000000</td>\n",
       "      <td>5.000000</td>\n",
       "      <td>334.760000</td>\n",
       "      <td>0.000000</td>\n",
       "      <td>0.000000</td>\n",
       "      <td>0.000000</td>\n",
       "    </tr>\n",
       "    <tr>\n",
       "      <th>50%</th>\n",
       "      <td>5314.000000</td>\n",
       "      <td>11.000000</td>\n",
       "      <td>1568.165000</td>\n",
       "      <td>1.530000</td>\n",
       "      <td>0.000000</td>\n",
       "      <td>0.000000</td>\n",
       "    </tr>\n",
       "    <tr>\n",
       "      <th>75%</th>\n",
       "      <td>8763.000000</td>\n",
       "      <td>18.000000</td>\n",
       "      <td>4129.000000</td>\n",
       "      <td>141.660000</td>\n",
       "      <td>0.000000</td>\n",
       "      <td>1.720000</td>\n",
       "    </tr>\n",
       "    <tr>\n",
       "      <th>max</th>\n",
       "      <td>20484.000000</td>\n",
       "      <td>35.000000</td>\n",
       "      <td>20462.230000</td>\n",
       "      <td>20369.440000</td>\n",
       "      <td>1.000000</td>\n",
       "      <td>75.580000</td>\n",
       "    </tr>\n",
       "  </tbody>\n",
       "</table>\n",
       "</div>"
      ],
      "text/plain": [
       "         credit_line          month         spends  revolving_balance  \\\n",
       "count  980818.000000  980818.000000  980818.000000      980818.000000   \n",
       "mean     6450.701643      12.103346    2878.074202         481.071351   \n",
       "std      4564.596250       8.515882    3529.032134        1431.827450   \n",
       "min       506.000000       0.000000       0.000000           0.000000   \n",
       "25%      2948.000000       5.000000     334.760000           0.000000   \n",
       "50%      5314.000000      11.000000    1568.165000           1.530000   \n",
       "75%      8763.000000      18.000000    4129.000000         141.660000   \n",
       "max     20484.000000      35.000000   20462.230000       20369.440000   \n",
       "\n",
       "        card_request     minutes_cs  \n",
       "count  980818.000000  980818.000000  \n",
       "mean        0.092795       2.791051  \n",
       "std         0.290145       6.644611  \n",
       "min         0.000000       0.000000  \n",
       "25%         0.000000       0.000000  \n",
       "50%         0.000000       0.000000  \n",
       "75%         0.000000       1.720000  \n",
       "max         1.000000      75.580000  "
      ]
     },
     "execution_count": 5,
     "metadata": {},
     "output_type": "execute_result"
    }
   ],
   "source": [
    "spend_train.describe()"
   ]
  },
  {
   "cell_type": "code",
   "execution_count": 52,
   "metadata": {},
   "outputs": [],
   "source": [
    "spend_ids = set(spend_train['ids'].values.tolist())\n",
    "acq_ids = set(acq_train['ids'].values.tolist())\n",
    "acqtest_ids = set(acq_test['ids'].values.tolist())"
   ]
  },
  {
   "cell_type": "code",
   "execution_count": 61,
   "metadata": {},
   "outputs": [
    {
     "data": {
      "image/png": "[encoded data removed]",
      "text/plain": [
       "<Figure size 432x288 with 9 Axes>"
      ]
     },
     "metadata": {
      "needs_background": "light"
     },
     "output_type": "display_data"
    }
   ],
   "source": [
    "spend_train.plot(kind='density', subplots=True, layout=(3,3), sharex=False)\n",
    "plt.show()"
   ]
  },
  {
   "cell_type": "markdown",
   "metadata": {},
   "source": [
    "## Analysis"
   ]
  },
  {
   "cell_type": "code",
   "execution_count": 65,
   "metadata": {},
   "outputs": [],
   "source": [
    "agg_spend = spend_train.groupby('ids').agg(\n",
    "    {'credit_line':['min','mean','max'],\n",
    "     'month':['max'],\n",
    "     'spends':['min','max','mean','median', 'sum'],\n",
    "     'revolving_balance':['min','max','mean','median', 'sum'],\n",
    "     'card_request':['sum'],\n",
    "     'minutes_cs':['sum']\n",
    "    }\n",
    "    )"
   ]
  },
  {
   "cell_type": "code",
   "execution_count": 81,
   "metadata": {},
   "outputs": [
    {
     "data": {
      "text/html": [
       "<div>\n",
       "<style scoped>\n",
       "    .dataframe tbody tr th:only-of-type {\n",
       "        vertical-align: middle;\n",
       "    }\n",
       "\n",
       "    .dataframe tbody tr th {\n",
       "        vertical-align: top;\n",
       "    }\n",
       "\n",
       "    .dataframe thead tr th {\n",
       "        text-align: left;\n",
       "    }\n",
       "\n",
       "    .dataframe thead tr:last-of-type th {\n",
       "        text-align: right;\n",
       "    }\n",
       "</style>\n",
       "<table border=\"1\" class=\"dataframe\">\n",
       "  <thead>\n",
       "    <tr>\n",
       "      <th></th>\n",
       "      <th>credit_line</th>\n",
       "      <th>month</th>\n",
       "      <th colspan=\"5\" halign=\"left\">spends</th>\n",
       "      <th colspan=\"5\" halign=\"left\">revolving_balance</th>\n",
       "      <th>card_request</th>\n",
       "      <th>minutes_cs</th>\n",
       "    </tr>\n",
       "    <tr>\n",
       "      <th></th>\n",
       "      <th>min</th>\n",
       "      <th>max</th>\n",
       "      <th>min</th>\n",
       "      <th>max</th>\n",
       "      <th>mean</th>\n",
       "      <th>median</th>\n",
       "      <th>sum</th>\n",
       "      <th>min</th>\n",
       "      <th>max</th>\n",
       "      <th>mean</th>\n",
       "      <th>median</th>\n",
       "      <th>sum</th>\n",
       "      <th>sum</th>\n",
       "      <th>sum</th>\n",
       "    </tr>\n",
       "    <tr>\n",
       "      <th>ids</th>\n",
       "      <th></th>\n",
       "      <th></th>\n",
       "      <th></th>\n",
       "      <th></th>\n",
       "      <th></th>\n",
       "      <th></th>\n",
       "      <th></th>\n",
       "      <th></th>\n",
       "      <th></th>\n",
       "      <th></th>\n",
       "      <th></th>\n",
       "      <th></th>\n",
       "      <th></th>\n",
       "      <th></th>\n",
       "    </tr>\n",
       "  </thead>\n",
       "  <tbody>\n",
       "    <tr>\n",
       "      <th>0003da40-123b-031a-63b3-f7c9f18516ab</th>\n",
       "      <td>20314</td>\n",
       "      <td>17</td>\n",
       "      <td>0.00</td>\n",
       "      <td>20268.75</td>\n",
       "      <td>4631.845000</td>\n",
       "      <td>1032.460</td>\n",
       "      <td>83373.21</td>\n",
       "      <td>0.00</td>\n",
       "      <td>19109.42</td>\n",
       "      <td>2255.217778</td>\n",
       "      <td>0.235</td>\n",
       "      <td>40593.92</td>\n",
       "      <td>3</td>\n",
       "      <td>21.50</td>\n",
       "    </tr>\n",
       "    <tr>\n",
       "      <th>0004a450-07bd-c652-8473-4e9dedcff8b8</th>\n",
       "      <td>19973</td>\n",
       "      <td>18</td>\n",
       "      <td>348.00</td>\n",
       "      <td>19327.57</td>\n",
       "      <td>9819.764737</td>\n",
       "      <td>9314.420</td>\n",
       "      <td>186575.53</td>\n",
       "      <td>0.00</td>\n",
       "      <td>6909.14</td>\n",
       "      <td>1058.767368</td>\n",
       "      <td>0.140</td>\n",
       "      <td>20116.58</td>\n",
       "      <td>1</td>\n",
       "      <td>52.71</td>\n",
       "    </tr>\n",
       "    <tr>\n",
       "      <th>0005967a-2048-6197-a054-30954efe93b1</th>\n",
       "      <td>11728</td>\n",
       "      <td>8</td>\n",
       "      <td>15.38</td>\n",
       "      <td>10703.30</td>\n",
       "      <td>5158.547778</td>\n",
       "      <td>5141.570</td>\n",
       "      <td>46426.93</td>\n",
       "      <td>0.22</td>\n",
       "      <td>2706.71</td>\n",
       "      <td>428.543333</td>\n",
       "      <td>13.200</td>\n",
       "      <td>3856.89</td>\n",
       "      <td>1</td>\n",
       "      <td>54.37</td>\n",
       "    </tr>\n",
       "    <tr>\n",
       "      <th>0009b1d5-f5c3-428e-63dd-39b5f04ad7df</th>\n",
       "      <td>3117</td>\n",
       "      <td>19</td>\n",
       "      <td>0.00</td>\n",
       "      <td>3116.41</td>\n",
       "      <td>1778.792500</td>\n",
       "      <td>2149.385</td>\n",
       "      <td>35575.85</td>\n",
       "      <td>0.00</td>\n",
       "      <td>2726.68</td>\n",
       "      <td>539.288500</td>\n",
       "      <td>11.340</td>\n",
       "      <td>10785.77</td>\n",
       "      <td>1</td>\n",
       "      <td>44.08</td>\n",
       "    </tr>\n",
       "    <tr>\n",
       "      <th>0010b103-a9e4-e08f-ce04-0c65e71a6df9</th>\n",
       "      <td>20000</td>\n",
       "      <td>12</td>\n",
       "      <td>120.40</td>\n",
       "      <td>19667.60</td>\n",
       "      <td>7772.272308</td>\n",
       "      <td>5058.400</td>\n",
       "      <td>101039.54</td>\n",
       "      <td>0.00</td>\n",
       "      <td>9310.31</td>\n",
       "      <td>1315.901538</td>\n",
       "      <td>3.340</td>\n",
       "      <td>17106.72</td>\n",
       "      <td>1</td>\n",
       "      <td>12.81</td>\n",
       "    </tr>\n",
       "  </tbody>\n",
       "</table>\n",
       "</div>"
      ],
      "text/plain": [
       "                                     credit_line month  spends            \\\n",
       "                                             min   max     min       max   \n",
       "ids                                                                        \n",
       "0003da40-123b-031a-63b3-f7c9f18516ab       20314    17    0.00  20268.75   \n",
       "0004a450-07bd-c652-8473-4e9dedcff8b8       19973    18  348.00  19327.57   \n",
       "0005967a-2048-6197-a054-30954efe93b1       11728     8   15.38  10703.30   \n",
       "0009b1d5-f5c3-428e-63dd-39b5f04ad7df        3117    19    0.00   3116.41   \n",
       "0010b103-a9e4-e08f-ce04-0c65e71a6df9       20000    12  120.40  19667.60   \n",
       "\n",
       "                                                                        \\\n",
       "                                             mean    median        sum   \n",
       "ids                                                                      \n",
       "0003da40-123b-031a-63b3-f7c9f18516ab  4631.845000  1032.460   83373.21   \n",
       "0004a450-07bd-c652-8473-4e9dedcff8b8  9819.764737  9314.420  186575.53   \n",
       "0005967a-2048-6197-a054-30954efe93b1  5158.547778  5141.570   46426.93   \n",
       "0009b1d5-f5c3-428e-63dd-39b5f04ad7df  1778.792500  2149.385   35575.85   \n",
       "0010b103-a9e4-e08f-ce04-0c65e71a6df9  7772.272308  5058.400  101039.54   \n",
       "\n",
       "                                     revolving_balance                         \\\n",
       "                                                   min       max         mean   \n",
       "ids                                                                             \n",
       "0003da40-123b-031a-63b3-f7c9f18516ab              0.00  19109.42  2255.217778   \n",
       "0004a450-07bd-c652-8473-4e9dedcff8b8              0.00   6909.14  1058.767368   \n",
       "0005967a-2048-6197-a054-30954efe93b1              0.22   2706.71   428.543333   \n",
       "0009b1d5-f5c3-428e-63dd-39b5f04ad7df              0.00   2726.68   539.288500   \n",
       "0010b103-a9e4-e08f-ce04-0c65e71a6df9              0.00   9310.31  1315.901538   \n",
       "\n",
       "                                                       card_request minutes_cs  \n",
       "                                      median       sum          sum        sum  \n",
       "ids                                                                             \n",
       "0003da40-123b-031a-63b3-f7c9f18516ab   0.235  40593.92            3      21.50  \n",
       "0004a450-07bd-c652-8473-4e9dedcff8b8   0.140  20116.58            1      52.71  \n",
       "0005967a-2048-6197-a054-30954efe93b1  13.200   3856.89            1      54.37  \n",
       "0009b1d5-f5c3-428e-63dd-39b5f04ad7df  11.340  10785.77            1      44.08  \n",
       "0010b103-a9e4-e08f-ce04-0c65e71a6df9   3.340  17106.72            1      12.81  "
      ]
     },
     "execution_count": 81,
     "metadata": {},
     "output_type": "execute_result"
    }
   ],
   "source": [
    "agg_spend[agg_spend['credit_line']['min'] != agg_spend['credit_line']['max']]"
   ]
  },
  {
   "cell_type": "code",
   "execution_count": 70,
   "metadata": {},
   "outputs": [],
   "source": [
    "agg_spend = spend_train.groupby('ids').agg(\n",
    "    {'credit_line':['min'],\n",
    "     'month':['max'],\n",
    "     'spends':['min','max','mean','median', 'sum'],\n",
    "     'revolving_balance':['min','max','mean','median', 'sum'],\n",
    "     'card_request':['sum'],\n",
    "     'minutes_cs':['sum']\n",
    "    }\n",
    "    )\n",
    "agg_spend.columns = ['_'.join(col).strip() for col in agg_spend.columns.values]"
   ]
  },
  {
   "cell_type": "code",
   "execution_count": 106,
   "metadata": {},
   "outputs": [
    {
     "data": {
      "text/plain": [
       "array([[  2.03140000e+04,   1.70000000e+01,   0.00000000e+00, ...,\n",
       "          4.05939200e+04,   3.00000000e+00,   2.15000000e+01],\n",
       "       [  1.99730000e+04,   1.80000000e+01,   3.48000000e+02, ...,\n",
       "          2.01165800e+04,   1.00000000e+00,   5.27100000e+01],\n",
       "       [  1.17280000e+04,   8.00000000e+00,   1.53800000e+01, ...,\n",
       "          3.85689000e+03,   1.00000000e+00,   5.43700000e+01],\n",
       "       ..., \n",
       "       [  4.01200000e+03,   1.70000000e+01,   0.00000000e+00, ...,\n",
       "          3.94907000e+03,   3.00000000e+00,   3.28700000e+01],\n",
       "       [  1.22270000e+04,   1.80000000e+01,   0.00000000e+00, ...,\n",
       "          3.11369200e+04,   1.00000000e+00,   7.40600000e+01],\n",
       "       [  5.25000000e+03,   2.40000000e+01,   0.00000000e+00, ...,\n",
       "          6.04203000e+03,   3.00000000e+00,   4.78200000e+01]])"
      ]
     },
     "execution_count": 106,
     "metadata": {},
     "output_type": "execute_result"
    }
   ],
   "source": [
    "agg_spend.values"
   ]
  },
  {
   "cell_type": "code",
   "execution_count": 82,
   "metadata": {},
   "outputs": [],
   "source": [
    "from sklearn.pipeline import make_pipeline\n",
    "from sklearn.preprocessing import StandardScaler\n",
    "from sklearn.cluster import KMeans\n",
    "\n",
    "# Create scaler: scaler\n",
    "scaler = StandardScaler()\n",
    "\n",
    "# Create KMeans instance: kmeans\n",
    "kmeans = KMeans(n_clusters=4)\n",
    "\n",
    "# Create pipeline: pipeline\n",
    "pipeline = make_pipeline(scaler,kmeans)"
   ]
  },
  {
   "cell_type": "code",
   "execution_count": 99,
   "metadata": {},
   "outputs": [
    {
     "data": {
      "image/png": "[encoded data removed]",
      "text/plain": [
       "<Figure size 432x288 with 1 Axes>"
      ]
     },
     "metadata": {
      "needs_background": "light"
     },
     "output_type": "display_data"
    }
   ],
   "source": [
    "\n",
    "\n",
    "ks = range(1, 7)\n",
    "inertias = []\n",
    "\n",
    "for k in ks:\n",
    "    # Create a KMeans instance with k clusters: model\n",
    "    model = KMeans(n_clusters=k)\n",
    "    \n",
    "    # Fit model to samples\n",
    "    model.fit(agg_spend)\n",
    "    \n",
    "    # Append the inertia to the list of inertias\n",
    "    inertias.append(model.inertia_)\n",
    "    \n",
    "# Plot ks vs inertias\n",
    "plt.plot(ks, inertias, '-o')\n",
    "plt.xlabel('number of clusters, k')\n",
    "plt.ylabel('inertia')\n",
    "plt.xticks(ks)\n",
    "plt.show()\n"
   ]
  },
  {
   "cell_type": "code",
   "execution_count": 114,
   "metadata": {},
   "outputs": [
    {
     "data": {
      "image/png": "[encoded data removed]",
      "text/plain": [
       "<Figure size 432x288 with 1 Axes>"
      ]
     },
     "metadata": {
      "needs_background": "light"
     },
     "output_type": "display_data"
    },
    {
     "name": "stdout",
     "output_type": "stream",
     "text": [
      "45000\n",
      "(45000, 14)\n"
     ]
    }
   ],
   "source": [
    "# Perform the necessary imports\n",
    "from sklearn.pipeline import make_pipeline\n",
    "from sklearn.preprocessing import StandardScaler\n",
    "from sklearn.cluster import KMeans\n",
    "\n",
    "# Create scaler: scaler\n",
    "scaler = StandardScaler()\n",
    "\n",
    "agg_spend = scaler.fit_transform(agg_spend)\n",
    "\n",
    "\n",
    "ks = range(1, 25)\n",
    "inertias = []\n",
    "\n",
    "for k in ks:\n",
    "    # Create a KMeans instance with k clusters: model\n",
    "    model = KMeans(n_clusters=k)\n",
    "    \n",
    "    # Fit model to samples\n",
    "    model.fit(agg_spend)\n",
    "    \n",
    "    # Append the inertia to the list of inertias\n",
    "    inertias.append(model.inertia_)\n",
    "    \n",
    "# Plot ks vs inertias\n",
    "plt.plot(ks, inertias, '-o')\n",
    "plt.xlabel('number of clusters, k')\n",
    "plt.ylabel('inertia')\n",
    "plt.xticks(ks)\n",
    "plt.grid()\n",
    "plt.show()\n",
    "\n",
    "print(len(labels))\n",
    "print(agg_spend.shape)\n"
   ]
  },
  {
   "cell_type": "code",
   "execution_count": 115,
   "metadata": {},
   "outputs": [
    {
     "data": {
      "image/png": "[encoded data removed]",
      "text/plain": [
       "<Figure size 432x288 with 1 Axes>"
      ]
     },
     "metadata": {
      "needs_background": "light"
     },
     "output_type": "display_data"
    }
   ],
   "source": [
    "# Perform the necessary imports\n",
    "from sklearn.decomposition import PCA\n",
    "from sklearn.preprocessing import StandardScaler\n",
    "from sklearn.pipeline import make_pipeline\n",
    "import matplotlib.pyplot as plt\n",
    "\n",
    "# Create scaler: scaler\n",
    "scaler = StandardScaler()\n",
    "\n",
    "# Create a PCA instance: pca\n",
    "pca = PCA()\n",
    "\n",
    "# Create pipeline: pipeline\n",
    "pipeline = make_pipeline(scaler,pca)\n",
    "\n",
    "# Fit the pipeline to 'samples'\n",
    "pipeline.fit(agg_spend)\n",
    "\n",
    "# Plot the explained variances\n",
    "features = range(pca.n_components_)\n",
    "plt.bar(features, pca.explained_variance_)\n",
    "plt.xlabel('PCA feature')\n",
    "plt.ylabel('variance')\n",
    "plt.xticks(features)\n",
    "plt.show()"
   ]
  },
  {
   "cell_type": "markdown",
   "metadata": {},
   "source": [
    "## Plots"
   ]
  },
  {
   "cell_type": "code",
   "execution_count": 80,
   "metadata": {},
   "outputs": [
    {
     "data": {
      "text/plain": [
       "array([[<matplotlib.axes._subplots.AxesSubplot object at 0x1a2cf10ef0>,\n",
       "        <matplotlib.axes._subplots.AxesSubplot object at 0x1a2d04ca90>],\n",
       "       [<matplotlib.axes._subplots.AxesSubplot object at 0x1a2d09d048>,\n",
       "        <matplotlib.axes._subplots.AxesSubplot object at 0x1a2d5c35c0>],\n",
       "       [<matplotlib.axes._subplots.AxesSubplot object at 0x1a2d5e8b38>,\n",
       "        <matplotlib.axes._subplots.AxesSubplot object at 0x1a2d6670f0>]], dtype=object)"
      ]
     },
     "execution_count": 80,
     "metadata": {},
     "output_type": "execute_result"
    },
    {
     "data": {
      "text/plain": [
       "<Figure size 720x1080 with 0 Axes>"
      ]
     },
     "metadata": {},
     "output_type": "display_data"
    },
    {
     "data": {
      "image/png": "[encoded data removed]",
      "text/plain": [
       "<Figure size 432x288 with 6 Axes>"
      ]
     },
     "metadata": {
      "needs_background": "light"
     },
     "output_type": "display_data"
    }
   ],
   "source": [
    "plt.figure(figsize=(10,15))\n",
    "agg_spend[agg_spend['month']['max']>10]['spends'].hist(bins=50)"
   ]
  },
  {
   "cell_type": "code",
   "execution_count": 24,
   "metadata": {},
   "outputs": [
    {
     "data": {
      "text/plain": [
       "<matplotlib.axes._subplots.AxesSubplot at 0x1a1b157d68>"
      ]
     },
     "execution_count": 24,
     "metadata": {},
     "output_type": "execute_result"
    },
    {
     "data": {
      "image/png": "[encoded data removed]",
      "text/plain": [
       "<Figure size 432x288 with 1 Axes>"
      ]
     },
     "metadata": {
      "needs_background": "light"
     },
     "output_type": "display_data"
    }
   ],
   "source": [
    "spend_train[\n",
    "(spend_train['credit_line']>19950) &\n",
    "(spend_train['credit_line']<20050)\n",
    "].drop_duplicates(['ids','credit_line'])['credit_line'].hist(bins=200)"
   ]
  },
  {
   "cell_type": "code",
   "execution_count": 14,
   "metadata": {},
   "outputs": [
    {
     "data": {
      "text/plain": [
       "<matplotlib.axes._subplots.AxesSubplot at 0x1a17343080>"
      ]
     },
     "execution_count": 14,
     "metadata": {},
     "output_type": "execute_result"
    },
    {
     "data": {
      "image/png": "[encoded data removed]",
      "text/plain": [
       "<Figure size 432x288 with 1 Axes>"
      ]
     },
     "metadata": {
      "needs_background": "light"
     },
     "output_type": "display_data"
    }
   ],
   "source": [
    "spend_train['credit_line'].hist(bins=100)"
   ]
  },
  {
   "cell_type": "code",
   "execution_count": 43,
   "metadata": {},
   "outputs": [
    {
     "data": {
      "text/plain": [
       "<matplotlib.axes._subplots.AxesSubplot at 0x1a1b45cdd8>"
      ]
     },
     "execution_count": 43,
     "metadata": {},
     "output_type": "execute_result"
    },
    {
     "data": {
      "image/png": "[encoded data removed]",
      "text/plain": [
       "<Figure size 432x288 with 1 Axes>"
      ]
     },
     "metadata": {
      "needs_background": "light"
     },
     "output_type": "display_data"
    }
   ],
   "source": [
    "spend_train['month'].hist(bins=50)"
   ]
  },
  {
   "cell_type": "code",
   "execution_count": 12,
   "metadata": {},
   "outputs": [
    {
     "data": {
      "text/plain": [
       "<matplotlib.axes._subplots.AxesSubplot at 0x112508240>"
      ]
     },
     "execution_count": 12,
     "metadata": {},
     "output_type": "execute_result"
    },
    {
     "data": {
      "image/png": "[encoded data removed]",
      "text/plain": [
       "<Figure size 432x288 with 1 Axes>"
      ]
     },
     "metadata": {
      "needs_background": "light"
     },
     "output_type": "display_data"
    }
   ],
   "source": [
    "spend_train['spends'].hist(bins=100)"
   ]
  },
  {
   "cell_type": "code",
   "execution_count": 13,
   "metadata": {},
   "outputs": [
    {
     "data": {
      "text/plain": [
       "(45000,)"
      ]
     },
     "execution_count": 13,
     "metadata": {},
     "output_type": "execute_result"
    }
   ],
   "source": [
    "spend_train['ids'].drop_duplicates().shape"
   ]
  }
 ],
 "metadata": {
  "kernelspec": {
   "display_name": "Python 3",
   "language": "python",
   "name": "python3"
  },
  "language_info": {
   "codemirror_mode": {
    "name": "ipython",
    "version": 3
   },
   "file_extension": ".py",
   "mimetype": "text/x-python",
   "name": "python",
   "nbconvert_exporter": "python",
   "pygments_lexer": "ipython3",
   "version": "3.6.6"
  }
 },
 "nbformat": 4,
 "nbformat_minor": 2
}
