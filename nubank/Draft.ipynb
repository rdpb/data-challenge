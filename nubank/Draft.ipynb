{
 "cells": [
  {
   "cell_type": "code",
   "execution_count": 194,
   "metadata": {},
   "outputs": [],
   "source": [
    "import pandas as pd\n",
    "import numpy as np\n",
    "import math\n",
    "from ast import literal_eval\n",
    "#from mpl_toolkits.basemap import Basemap\n",
    "import matplotlib.pyplot as plt\n",
    "import gc\n",
    "import missingno as msno\n",
    "\n",
    "from sklearn.ensemble import RandomForestClassifier\n",
    "from sklearn.model_selection import train_test_split, cross_val_score, cross_val_predict, GridSearchCV, StratifiedKFold\n",
    "from sklearn.metrics import make_scorer, accuracy_score, roc_auc_score\n",
    "\n",
    "%matplotlib inline"
   ]
  },
  {
   "cell_type": "code",
   "execution_count": 134,
   "metadata": {},
   "outputs": [],
   "source": [
    "#spend_train = pd.read_csv('data/spend_train.csv')\n",
    "\n",
    "acq_train = pd.read_csv('data/acquisition_train.csv', parse_dates=True)\n",
    "acq_test = pd.read_csv('data/acquisition_test.csv', parse_dates=True)"
   ]
  },
  {
   "cell_type": "code",
   "execution_count": 135,
   "metadata": {},
   "outputs": [
    {
     "name": "stdout",
     "output_type": "stream",
     "text": [
      "<class 'pandas.core.frame.DataFrame'>\n",
      "RangeIndex: 45000 entries, 0 to 44999\n",
      "Data columns (total 43 columns):\n",
      "ids                                                 45000 non-null object\n",
      "target_default                                      41741 non-null object\n",
      "score_1                                             44438 non-null object\n",
      "score_2                                             44438 non-null object\n",
      "score_3                                             44438 non-null float64\n",
      "score_4                                             45000 non-null float64\n",
      "score_5                                             45000 non-null float64\n",
      "score_6                                             45000 non-null float64\n",
      "risk_rate                                           44438 non-null float64\n",
      "last_amount_borrowed                                15044 non-null float64\n",
      "last_borrowed_in_months                             15044 non-null float64\n",
      "credit_limit                                        31200 non-null float64\n",
      "reason                                              44434 non-null object\n",
      "income                                              44438 non-null float64\n",
      "facebook_profile                                    40542 non-null object\n",
      "state                                               44438 non-null object\n",
      "zip                                                 44438 non-null object\n",
      "channel                                             44438 non-null object\n",
      "job_name                                            41664 non-null object\n",
      "real_state                                          44438 non-null object\n",
      "ok_since                                            18455 non-null float64\n",
      "n_bankruptcies                                      44303 non-null float64\n",
      "n_defaulted_loans                                   44426 non-null float64\n",
      "n_accounts                                          44438 non-null float64\n",
      "n_issues                                            33456 non-null float64\n",
      "application_time_applied                            45000 non-null object\n",
      "application_time_in_funnel                          45000 non-null int64\n",
      "email                                               45000 non-null object\n",
      "external_data_provider_credit_checks_last_2_year    22372 non-null float64\n",
      "external_data_provider_credit_checks_last_month     45000 non-null int64\n",
      "external_data_provider_credit_checks_last_year      29876 non-null float64\n",
      "external_data_provider_email_seen_before            42767 non-null float64\n",
      "external_data_provider_first_name                   45000 non-null object\n",
      "external_data_provider_fraud_score                  45000 non-null int64\n",
      "lat_lon                                             43637 non-null object\n",
      "marketing_channel                                   41422 non-null object\n",
      "profile_phone_number                                45000 non-null object\n",
      "reported_income                                     45000 non-null float64\n",
      "shipping_state                                      45000 non-null object\n",
      "shipping_zip_code                                   45000 non-null int64\n",
      "profile_tags                                        45000 non-null object\n",
      "user_agent                                          44278 non-null object\n",
      "target_fraud                                        1522 non-null object\n",
      "dtypes: float64(18), int64(4), object(21)\n",
      "memory usage: 14.8+ MB\n"
     ]
    }
   ],
   "source": [
    "acq_train.info()"
   ]
  },
  {
   "cell_type": "code",
   "execution_count": 5,
   "metadata": {},
   "outputs": [
    {
     "data": {
      "text/html": [
       "<div>\n",
       "<style scoped>\n",
       "    .dataframe tbody tr th:only-of-type {\n",
       "        vertical-align: middle;\n",
       "    }\n",
       "\n",
       "    .dataframe tbody tr th {\n",
       "        vertical-align: top;\n",
       "    }\n",
       "\n",
       "    .dataframe thead th {\n",
       "        text-align: right;\n",
       "    }\n",
       "</style>\n",
       "<table border=\"1\" class=\"dataframe\">\n",
       "  <thead>\n",
       "    <tr style=\"text-align: right;\">\n",
       "      <th></th>\n",
       "      <th>score_3</th>\n",
       "      <th>score_4</th>\n",
       "      <th>score_5</th>\n",
       "      <th>score_6</th>\n",
       "      <th>risk_rate</th>\n",
       "      <th>last_amount_borrowed</th>\n",
       "      <th>last_borrowed_in_months</th>\n",
       "      <th>credit_limit</th>\n",
       "      <th>income</th>\n",
       "      <th>ok_since</th>\n",
       "      <th>...</th>\n",
       "      <th>n_accounts</th>\n",
       "      <th>n_issues</th>\n",
       "      <th>application_time_in_funnel</th>\n",
       "      <th>external_data_provider_credit_checks_last_2_year</th>\n",
       "      <th>external_data_provider_credit_checks_last_month</th>\n",
       "      <th>external_data_provider_credit_checks_last_year</th>\n",
       "      <th>external_data_provider_email_seen_before</th>\n",
       "      <th>external_data_provider_fraud_score</th>\n",
       "      <th>reported_income</th>\n",
       "      <th>shipping_zip_code</th>\n",
       "    </tr>\n",
       "  </thead>\n",
       "  <tbody>\n",
       "    <tr>\n",
       "      <th>count</th>\n",
       "      <td>44438.000000</td>\n",
       "      <td>45000.000000</td>\n",
       "      <td>45000.000000</td>\n",
       "      <td>45000.000000</td>\n",
       "      <td>44438.000000</td>\n",
       "      <td>15044.000000</td>\n",
       "      <td>15044.000000</td>\n",
       "      <td>31200.000000</td>\n",
       "      <td>4.443800e+04</td>\n",
       "      <td>18455.000000</td>\n",
       "      <td>...</td>\n",
       "      <td>44438.000000</td>\n",
       "      <td>33456.000000</td>\n",
       "      <td>45000.000000</td>\n",
       "      <td>22372.0</td>\n",
       "      <td>45000.000000</td>\n",
       "      <td>29876.000000</td>\n",
       "      <td>42767.000000</td>\n",
       "      <td>45000.000000</td>\n",
       "      <td>4.500000e+04</td>\n",
       "      <td>45000.000000</td>\n",
       "    </tr>\n",
       "    <tr>\n",
       "      <th>mean</th>\n",
       "      <td>347.983258</td>\n",
       "      <td>100.006797</td>\n",
       "      <td>0.500037</td>\n",
       "      <td>99.925228</td>\n",
       "      <td>0.296717</td>\n",
       "      <td>13782.341991</td>\n",
       "      <td>41.763893</td>\n",
       "      <td>34381.951154</td>\n",
       "      <td>7.160739e+04</td>\n",
       "      <td>35.069737</td>\n",
       "      <td>...</td>\n",
       "      <td>10.696701</td>\n",
       "      <td>11.068119</td>\n",
       "      <td>247.537000</td>\n",
       "      <td>0.0</td>\n",
       "      <td>1.501067</td>\n",
       "      <td>0.503381</td>\n",
       "      <td>12.534781</td>\n",
       "      <td>500.399800</td>\n",
       "      <td>inf</td>\n",
       "      <td>33923.514844</td>\n",
       "    </tr>\n",
       "    <tr>\n",
       "      <th>std</th>\n",
       "      <td>110.429165</td>\n",
       "      <td>3.178080</td>\n",
       "      <td>0.288326</td>\n",
       "      <td>10.016549</td>\n",
       "      <td>0.101933</td>\n",
       "      <td>8077.571933</td>\n",
       "      <td>10.252705</td>\n",
       "      <td>36586.982218</td>\n",
       "      <td>5.185897e+04</td>\n",
       "      <td>21.663194</td>\n",
       "      <td>...</td>\n",
       "      <td>4.592463</td>\n",
       "      <td>4.595501</td>\n",
       "      <td>146.118398</td>\n",
       "      <td>0.0</td>\n",
       "      <td>1.114941</td>\n",
       "      <td>0.499997</td>\n",
       "      <td>126.530487</td>\n",
       "      <td>287.968873</td>\n",
       "      <td>NaN</td>\n",
       "      <td>12692.406382</td>\n",
       "    </tr>\n",
       "    <tr>\n",
       "      <th>min</th>\n",
       "      <td>0.000000</td>\n",
       "      <td>86.191572</td>\n",
       "      <td>0.000035</td>\n",
       "      <td>60.663039</td>\n",
       "      <td>0.000000</td>\n",
       "      <td>1005.180000</td>\n",
       "      <td>36.000000</td>\n",
       "      <td>0.000000</td>\n",
       "      <td>4.821180e+03</td>\n",
       "      <td>0.000000</td>\n",
       "      <td>...</td>\n",
       "      <td>0.000000</td>\n",
       "      <td>0.000000</td>\n",
       "      <td>0.000000</td>\n",
       "      <td>0.0</td>\n",
       "      <td>0.000000</td>\n",
       "      <td>0.000000</td>\n",
       "      <td>-999.000000</td>\n",
       "      <td>0.000000</td>\n",
       "      <td>4.030000e+02</td>\n",
       "      <td>12001.000000</td>\n",
       "    </tr>\n",
       "    <tr>\n",
       "      <th>25%</th>\n",
       "      <td>270.000000</td>\n",
       "      <td>97.867036</td>\n",
       "      <td>0.252150</td>\n",
       "      <td>93.198353</td>\n",
       "      <td>0.220000</td>\n",
       "      <td>7519.502500</td>\n",
       "      <td>36.000000</td>\n",
       "      <td>10000.000000</td>\n",
       "      <td>4.501078e+04</td>\n",
       "      <td>17.000000</td>\n",
       "      <td>...</td>\n",
       "      <td>7.000000</td>\n",
       "      <td>8.000000</td>\n",
       "      <td>120.000000</td>\n",
       "      <td>0.0</td>\n",
       "      <td>1.000000</td>\n",
       "      <td>0.000000</td>\n",
       "      <td>11.000000</td>\n",
       "      <td>252.000000</td>\n",
       "      <td>5.094825e+04</td>\n",
       "      <td>22937.000000</td>\n",
       "    </tr>\n",
       "    <tr>\n",
       "      <th>50%</th>\n",
       "      <td>340.000000</td>\n",
       "      <td>100.018900</td>\n",
       "      <td>0.500753</td>\n",
       "      <td>99.974796</td>\n",
       "      <td>0.290000</td>\n",
       "      <td>12023.465000</td>\n",
       "      <td>36.000000</td>\n",
       "      <td>25647.000000</td>\n",
       "      <td>6.126676e+04</td>\n",
       "      <td>32.000000</td>\n",
       "      <td>...</td>\n",
       "      <td>10.000000</td>\n",
       "      <td>10.000000</td>\n",
       "      <td>248.000000</td>\n",
       "      <td>0.0</td>\n",
       "      <td>2.000000</td>\n",
       "      <td>1.000000</td>\n",
       "      <td>27.000000</td>\n",
       "      <td>503.000000</td>\n",
       "      <td>1.017790e+05</td>\n",
       "      <td>33896.000000</td>\n",
       "    </tr>\n",
       "    <tr>\n",
       "      <th>75%</th>\n",
       "      <td>420.000000</td>\n",
       "      <td>102.141797</td>\n",
       "      <td>0.748816</td>\n",
       "      <td>106.640275</td>\n",
       "      <td>0.360000</td>\n",
       "      <td>19220.270000</td>\n",
       "      <td>36.000000</td>\n",
       "      <td>47086.750000</td>\n",
       "      <td>8.601923e+04</td>\n",
       "      <td>50.000000</td>\n",
       "      <td>...</td>\n",
       "      <td>13.000000</td>\n",
       "      <td>14.000000</td>\n",
       "      <td>375.000000</td>\n",
       "      <td>0.0</td>\n",
       "      <td>2.000000</td>\n",
       "      <td>1.000000</td>\n",
       "      <td>43.000000</td>\n",
       "      <td>747.000000</td>\n",
       "      <td>1.513372e+05</td>\n",
       "      <td>44910.000000</td>\n",
       "    </tr>\n",
       "    <tr>\n",
       "      <th>max</th>\n",
       "      <td>990.000000</td>\n",
       "      <td>113.978234</td>\n",
       "      <td>0.999973</td>\n",
       "      <td>142.192400</td>\n",
       "      <td>0.900000</td>\n",
       "      <td>35059.600000</td>\n",
       "      <td>60.000000</td>\n",
       "      <td>448269.000000</td>\n",
       "      <td>5.000028e+06</td>\n",
       "      <td>141.000000</td>\n",
       "      <td>...</td>\n",
       "      <td>49.000000</td>\n",
       "      <td>49.000000</td>\n",
       "      <td>500.000000</td>\n",
       "      <td>0.0</td>\n",
       "      <td>3.000000</td>\n",
       "      <td>1.000000</td>\n",
       "      <td>59.000000</td>\n",
       "      <td>1000.000000</td>\n",
       "      <td>inf</td>\n",
       "      <td>56000.000000</td>\n",
       "    </tr>\n",
       "  </tbody>\n",
       "</table>\n",
       "<p>8 rows × 22 columns</p>\n",
       "</div>"
      ],
      "text/plain": [
       "            score_3       score_4       score_5       score_6     risk_rate  \\\n",
       "count  44438.000000  45000.000000  45000.000000  45000.000000  44438.000000   \n",
       "mean     347.983258    100.006797      0.500037     99.925228      0.296717   \n",
       "std      110.429165      3.178080      0.288326     10.016549      0.101933   \n",
       "min        0.000000     86.191572      0.000035     60.663039      0.000000   \n",
       "25%      270.000000     97.867036      0.252150     93.198353      0.220000   \n",
       "50%      340.000000    100.018900      0.500753     99.974796      0.290000   \n",
       "75%      420.000000    102.141797      0.748816    106.640275      0.360000   \n",
       "max      990.000000    113.978234      0.999973    142.192400      0.900000   \n",
       "\n",
       "       last_amount_borrowed  last_borrowed_in_months   credit_limit  \\\n",
       "count          15044.000000             15044.000000   31200.000000   \n",
       "mean           13782.341991                41.763893   34381.951154   \n",
       "std             8077.571933                10.252705   36586.982218   \n",
       "min             1005.180000                36.000000       0.000000   \n",
       "25%             7519.502500                36.000000   10000.000000   \n",
       "50%            12023.465000                36.000000   25647.000000   \n",
       "75%            19220.270000                36.000000   47086.750000   \n",
       "max            35059.600000                60.000000  448269.000000   \n",
       "\n",
       "             income      ok_since        ...            n_accounts  \\\n",
       "count  4.443800e+04  18455.000000        ...          44438.000000   \n",
       "mean   7.160739e+04     35.069737        ...             10.696701   \n",
       "std    5.185897e+04     21.663194        ...              4.592463   \n",
       "min    4.821180e+03      0.000000        ...              0.000000   \n",
       "25%    4.501078e+04     17.000000        ...              7.000000   \n",
       "50%    6.126676e+04     32.000000        ...             10.000000   \n",
       "75%    8.601923e+04     50.000000        ...             13.000000   \n",
       "max    5.000028e+06    141.000000        ...             49.000000   \n",
       "\n",
       "           n_issues  application_time_in_funnel  \\\n",
       "count  33456.000000                45000.000000   \n",
       "mean      11.068119                  247.537000   \n",
       "std        4.595501                  146.118398   \n",
       "min        0.000000                    0.000000   \n",
       "25%        8.000000                  120.000000   \n",
       "50%       10.000000                  248.000000   \n",
       "75%       14.000000                  375.000000   \n",
       "max       49.000000                  500.000000   \n",
       "\n",
       "       external_data_provider_credit_checks_last_2_year  \\\n",
       "count                                           22372.0   \n",
       "mean                                                0.0   \n",
       "std                                                 0.0   \n",
       "min                                                 0.0   \n",
       "25%                                                 0.0   \n",
       "50%                                                 0.0   \n",
       "75%                                                 0.0   \n",
       "max                                                 0.0   \n",
       "\n",
       "       external_data_provider_credit_checks_last_month  \\\n",
       "count                                     45000.000000   \n",
       "mean                                          1.501067   \n",
       "std                                           1.114941   \n",
       "min                                           0.000000   \n",
       "25%                                           1.000000   \n",
       "50%                                           2.000000   \n",
       "75%                                           2.000000   \n",
       "max                                           3.000000   \n",
       "\n",
       "       external_data_provider_credit_checks_last_year  \\\n",
       "count                                    29876.000000   \n",
       "mean                                         0.503381   \n",
       "std                                          0.499997   \n",
       "min                                          0.000000   \n",
       "25%                                          0.000000   \n",
       "50%                                          1.000000   \n",
       "75%                                          1.000000   \n",
       "max                                          1.000000   \n",
       "\n",
       "       external_data_provider_email_seen_before  \\\n",
       "count                              42767.000000   \n",
       "mean                                  12.534781   \n",
       "std                                  126.530487   \n",
       "min                                 -999.000000   \n",
       "25%                                   11.000000   \n",
       "50%                                   27.000000   \n",
       "75%                                   43.000000   \n",
       "max                                   59.000000   \n",
       "\n",
       "       external_data_provider_fraud_score  reported_income  shipping_zip_code  \n",
       "count                        45000.000000     4.500000e+04       45000.000000  \n",
       "mean                           500.399800              inf       33923.514844  \n",
       "std                            287.968873              NaN       12692.406382  \n",
       "min                              0.000000     4.030000e+02       12001.000000  \n",
       "25%                            252.000000     5.094825e+04       22937.000000  \n",
       "50%                            503.000000     1.017790e+05       33896.000000  \n",
       "75%                            747.000000     1.513372e+05       44910.000000  \n",
       "max                           1000.000000              inf       56000.000000  \n",
       "\n",
       "[8 rows x 22 columns]"
      ]
     },
     "execution_count": 5,
     "metadata": {},
     "output_type": "execute_result"
    }
   ],
   "source": [
    "acq_train.describe()"
   ]
  },
  {
   "cell_type": "code",
   "execution_count": 136,
   "metadata": {},
   "outputs": [],
   "source": [
    "# Data cleanup\n",
    "\n",
    "def clean_replace(df, replace_dict):\n",
    "    for key in replace_dict:\n",
    "        for entry in replace_dict[key]:\n",
    "            df[key].replace(entry[0],entry[1],inplace=True)\n",
    "    \n",
    "\n",
    "#categorize_label = lambda x: x.astype('category')\n",
    "\n",
    "# Convert df[LABELS] to a categorical type\n",
    "#df[LABELS] = df[LABELS].apply(categorize_label, axis=0)\n",
    "\n",
    "\n",
    "# Scores 1 and 2 as categories\n",
    "acq_train['score_1'] = acq_train['score_1'].astype('category').cat.codes\n",
    "acq_train['score_2'] = acq_train['score_2'].astype('category').cat.codes\n",
    "\n",
    "acq_test['score_1'] = acq_test['score_1'].astype('category').cat.codes\n",
    "acq_test['score_2'] = acq_test['score_2'].astype('category').cat.codes\n",
    "\n",
    "# Real State\n",
    "acq_train['real_state'] = acq_train['real_state'].astype('category').cat.codes\n",
    "acq_test['real_state'] = acq_test['real_state'].astype('category').cat.codes\n",
    "\n",
    "# Parse lat_lon\n",
    "# TODO: uncomment\n",
    "acq_train['lat_lon'] = acq_train['lat_lon'].apply(lambda x: literal_eval(x) if pd.notnull(x) else x)\n",
    "acq_test['lat_lon'] = acq_test['lat_lon'].apply(lambda x: literal_eval(x) if pd.notnull(x) else x)\n",
    "\n",
    "acq_train[['lat','lon']] = acq_train['lat_lon'].apply(pd.Series)\n",
    "acq_test[['lat','lon']] = acq_test['lat_lon'].apply(pd.Series)\n",
    "\n",
    "# Fix email typos\n",
    "replace_dict = {}\n",
    "replace_dict['email'] = [['gmaill.com','gmail.com'],['hotmaill.com','hotmail.com']]\n",
    "\n",
    "#acq_train.loc[acq_train['email']=='gmaill.com','email'] = 'gmail.com'\n",
    "#acq_train.loc[acq_train['email']=='hotmaill.com','email'] = 'hotmail.com'\n",
    "#acq_test.loc[acq_test['email']=='gmaill.com','email'] = 'gmail.com'\n",
    "#acq_test.loc[acq_test['email']=='hotmaill.com','email'] = 'hotmail.com'\n",
    "\n",
    "clean_replace(acq_train,replace_dict)\n",
    "clean_replace(acq_test,replace_dict)"
   ]
  },
  {
   "cell_type": "code",
   "execution_count": 137,
   "metadata": {},
   "outputs": [
    {
     "data": {
      "text/html": [
       "<div>\n",
       "<style scoped>\n",
       "    .dataframe tbody tr th:only-of-type {\n",
       "        vertical-align: middle;\n",
       "    }\n",
       "\n",
       "    .dataframe tbody tr th {\n",
       "        vertical-align: top;\n",
       "    }\n",
       "\n",
       "    .dataframe thead th {\n",
       "        text-align: right;\n",
       "    }\n",
       "</style>\n",
       "<table border=\"1\" class=\"dataframe\">\n",
       "  <thead>\n",
       "    <tr style=\"text-align: right;\">\n",
       "      <th></th>\n",
       "      <th>ids</th>\n",
       "      <th>target_default</th>\n",
       "      <th>score_1</th>\n",
       "      <th>score_2</th>\n",
       "      <th>score_3</th>\n",
       "      <th>score_4</th>\n",
       "      <th>score_5</th>\n",
       "      <th>score_6</th>\n",
       "      <th>risk_rate</th>\n",
       "      <th>last_amount_borrowed</th>\n",
       "      <th>...</th>\n",
       "      <th>marketing_channel</th>\n",
       "      <th>profile_phone_number</th>\n",
       "      <th>reported_income</th>\n",
       "      <th>shipping_state</th>\n",
       "      <th>shipping_zip_code</th>\n",
       "      <th>profile_tags</th>\n",
       "      <th>user_agent</th>\n",
       "      <th>target_fraud</th>\n",
       "      <th>lat</th>\n",
       "      <th>lon</th>\n",
       "    </tr>\n",
       "    <tr>\n",
       "      <th>email</th>\n",
       "      <th></th>\n",
       "      <th></th>\n",
       "      <th></th>\n",
       "      <th></th>\n",
       "      <th></th>\n",
       "      <th></th>\n",
       "      <th></th>\n",
       "      <th></th>\n",
       "      <th></th>\n",
       "      <th></th>\n",
       "      <th></th>\n",
       "      <th></th>\n",
       "      <th></th>\n",
       "      <th></th>\n",
       "      <th></th>\n",
       "      <th></th>\n",
       "      <th></th>\n",
       "      <th></th>\n",
       "      <th></th>\n",
       "      <th></th>\n",
       "      <th></th>\n",
       "    </tr>\n",
       "  </thead>\n",
       "  <tbody>\n",
       "    <tr>\n",
       "      <th>gmail.com</th>\n",
       "      <td>22721</td>\n",
       "      <td>21035</td>\n",
       "      <td>22721</td>\n",
       "      <td>22721</td>\n",
       "      <td>22444</td>\n",
       "      <td>22721</td>\n",
       "      <td>22721</td>\n",
       "      <td>22721</td>\n",
       "      <td>22444</td>\n",
       "      <td>7571</td>\n",
       "      <td>...</td>\n",
       "      <td>20909</td>\n",
       "      <td>22721</td>\n",
       "      <td>22721</td>\n",
       "      <td>22721</td>\n",
       "      <td>22721</td>\n",
       "      <td>22721</td>\n",
       "      <td>22348</td>\n",
       "      <td>644</td>\n",
       "      <td>22036</td>\n",
       "      <td>22036</td>\n",
       "    </tr>\n",
       "    <tr>\n",
       "      <th>hotmail.com</th>\n",
       "      <td>11336</td>\n",
       "      <td>10505</td>\n",
       "      <td>11336</td>\n",
       "      <td>11336</td>\n",
       "      <td>11192</td>\n",
       "      <td>11336</td>\n",
       "      <td>11336</td>\n",
       "      <td>11336</td>\n",
       "      <td>11192</td>\n",
       "      <td>3846</td>\n",
       "      <td>...</td>\n",
       "      <td>10435</td>\n",
       "      <td>11336</td>\n",
       "      <td>11336</td>\n",
       "      <td>11336</td>\n",
       "      <td>11336</td>\n",
       "      <td>11336</td>\n",
       "      <td>11169</td>\n",
       "      <td>382</td>\n",
       "      <td>10997</td>\n",
       "      <td>10997</td>\n",
       "    </tr>\n",
       "    <tr>\n",
       "      <th>outlook.com</th>\n",
       "      <td>5797</td>\n",
       "      <td>5419</td>\n",
       "      <td>5797</td>\n",
       "      <td>5797</td>\n",
       "      <td>5717</td>\n",
       "      <td>5797</td>\n",
       "      <td>5797</td>\n",
       "      <td>5797</td>\n",
       "      <td>5717</td>\n",
       "      <td>1907</td>\n",
       "      <td>...</td>\n",
       "      <td>5343</td>\n",
       "      <td>5797</td>\n",
       "      <td>5797</td>\n",
       "      <td>5797</td>\n",
       "      <td>5797</td>\n",
       "      <td>5797</td>\n",
       "      <td>5704</td>\n",
       "      <td>359</td>\n",
       "      <td>5600</td>\n",
       "      <td>5600</td>\n",
       "    </tr>\n",
       "    <tr>\n",
       "      <th>spgov.com</th>\n",
       "      <td>5146</td>\n",
       "      <td>4782</td>\n",
       "      <td>5146</td>\n",
       "      <td>5146</td>\n",
       "      <td>5085</td>\n",
       "      <td>5146</td>\n",
       "      <td>5146</td>\n",
       "      <td>5146</td>\n",
       "      <td>5085</td>\n",
       "      <td>1720</td>\n",
       "      <td>...</td>\n",
       "      <td>4735</td>\n",
       "      <td>5146</td>\n",
       "      <td>5146</td>\n",
       "      <td>5146</td>\n",
       "      <td>5146</td>\n",
       "      <td>5146</td>\n",
       "      <td>5057</td>\n",
       "      <td>137</td>\n",
       "      <td>5004</td>\n",
       "      <td>5004</td>\n",
       "    </tr>\n",
       "  </tbody>\n",
       "</table>\n",
       "<p>4 rows × 44 columns</p>\n",
       "</div>"
      ],
      "text/plain": [
       "               ids  target_default  score_1  score_2  score_3  score_4  \\\n",
       "email                                                                    \n",
       "gmail.com    22721           21035    22721    22721    22444    22721   \n",
       "hotmail.com  11336           10505    11336    11336    11192    11336   \n",
       "outlook.com   5797            5419     5797     5797     5717     5797   \n",
       "spgov.com     5146            4782     5146     5146     5085     5146   \n",
       "\n",
       "             score_5  score_6  risk_rate  last_amount_borrowed  ...    \\\n",
       "email                                                           ...     \n",
       "gmail.com      22721    22721      22444                  7571  ...     \n",
       "hotmail.com    11336    11336      11192                  3846  ...     \n",
       "outlook.com     5797     5797       5717                  1907  ...     \n",
       "spgov.com       5146     5146       5085                  1720  ...     \n",
       "\n",
       "             marketing_channel  profile_phone_number  reported_income  \\\n",
       "email                                                                   \n",
       "gmail.com                20909                 22721            22721   \n",
       "hotmail.com              10435                 11336            11336   \n",
       "outlook.com               5343                  5797             5797   \n",
       "spgov.com                 4735                  5146             5146   \n",
       "\n",
       "             shipping_state  shipping_zip_code  profile_tags  user_agent  \\\n",
       "email                                                                      \n",
       "gmail.com             22721              22721         22721       22348   \n",
       "hotmail.com           11336              11336         11336       11169   \n",
       "outlook.com            5797               5797          5797        5704   \n",
       "spgov.com              5146               5146          5146        5057   \n",
       "\n",
       "             target_fraud    lat    lon  \n",
       "email                                    \n",
       "gmail.com             644  22036  22036  \n",
       "hotmail.com           382  10997  10997  \n",
       "outlook.com           359   5600   5600  \n",
       "spgov.com             137   5004   5004  \n",
       "\n",
       "[4 rows x 44 columns]"
      ]
     },
     "execution_count": 137,
     "metadata": {},
     "output_type": "execute_result"
    }
   ],
   "source": [
    "acq_train.groupby('email').count()"
   ]
  },
  {
   "cell_type": "code",
   "execution_count": 138,
   "metadata": {},
   "outputs": [],
   "source": [
    "acq_train = acq_train[pd.notnull(acq_train[\"target_default\"])]\n",
    "acq_train[\"target_default\"] = acq_train[\"target_default\"].astype('int')\n",
    "\n",
    "# Fill NA\n",
    "acq_train[\"score_3\"].fillna(acq_train[\"score_3\"].mean(), inplace = True)\n",
    "acq_test[\"score_3\"].fillna(acq_test[\"score_3\"].mean(), inplace = True)\n",
    "acq_train[\"risk_rate\"].fillna(acq_train[\"risk_rate\"].mean(), inplace = True)\n",
    "acq_test[\"risk_rate\"].fillna(acq_test[\"risk_rate\"].mean(), inplace = True)\n",
    "acq_train[\"n_defaulted_loans\"].fillna(0, inplace = True)\n",
    "acq_test[\"n_defaulted_loans\"].fillna(0, inplace = True)\n",
    "acq_train[\"last_amount_borrowed\"].fillna(0, inplace = True)\n",
    "acq_test[\"last_amount_borrowed\"].fillna(0, inplace = True)\n",
    "\n",
    "acq_train[\"external_data_provider_credit_checks_last_year\"].fillna(0, inplace = True)\n",
    "acq_test[\"external_data_provider_credit_checks_last_year\"].fillna(0, inplace = True)\n",
    "\n",
    "# Early morning\n",
    "parse_time_hour = lambda x: x.split(':')[0]\n",
    "early_morning = lambda x: 1 if x <= 7 else 0\n",
    "\n",
    "acq_train['application_hour_applied'] = pd.to_numeric(acq_train['application_time_applied'].apply(parse_time_hour)).replace(24,0)\n",
    "acq_train['early_morning'] = acq_train['application_hour_applied'].apply(early_morning)\n",
    "acq_test['application_hour_applied'] = pd.to_numeric(acq_test['application_time_applied'].apply(parse_time_hour)).replace(24,0)\n",
    "acq_test['early_morning'] = acq_test['application_hour_applied'].apply(early_morning)\n",
    "\n",
    "# Shipping state\n",
    "acq_train['shipping_state'] = acq_train['shipping_state'].astype('category')\n",
    "acq_test['shipping_state'] = acq_test['shipping_state'].astype('category')\n",
    "\n",
    "acq_train['shipping_state'] = acq_train['shipping_state'].astype('category')\n",
    "acq_test['shipping_state'] = acq_test['shipping_state'].astype('category')"
   ]
  },
  {
   "cell_type": "code",
   "execution_count": null,
   "metadata": {},
   "outputs": [],
   "source": [
    "names = list(acq_train.groupby('target_fraud').count())\n",
    "values = list(data.values())\n",
    "\n",
    "#fig, axs = plt.subplots(1, 3, figsize=(9, 3), sharey=True)\n",
    "#axs[0].bar(names, values)"
   ]
  },
  {
   "cell_type": "code",
   "execution_count": 131,
   "metadata": {},
   "outputs": [
    {
     "name": "stderr",
     "output_type": "stream",
     "text": [
      "/anaconda2/envs/challenge/lib/python3.6/site-packages/numpy/lib/function_base.py:748: RuntimeWarning: invalid value encountered in greater_equal\n",
      "  keep = (tmp_a >= mn)\n",
      "/anaconda2/envs/challenge/lib/python3.6/site-packages/numpy/lib/function_base.py:749: RuntimeWarning: invalid value encountered in less_equal\n",
      "  keep &= (tmp_a <= mx)\n"
     ]
    },
    {
     "data": {
      "image/png": "[encoded data removed]",
      "text/plain": [
       "<Figure size 432x288 with 4 Axes>"
      ]
     },
     "metadata": {
      "needs_background": "light"
     },
     "output_type": "display_data"
    }
   ],
   "source": [
    "#TODO : add weights!\n",
    "varlist = ['n_bankruptcies','n_defaulted_loans','n_accounts','n_issues']\n",
    "\n",
    "fig = plt.figure()\n",
    "fig.subplots_adjust(hspace=0.4, wspace=0.4)\n",
    "\n",
    "for i, a in enumerate(varlist):\n",
    "    ax = fig.add_subplot(2, 2, i+1)\n",
    "    ax.set_title(a, fontsize='large')\n",
    "    fig.suptitle('Main title')\n",
    "    ax.hist([acq_train[acq_train['target_default']==1][a], acq_train[acq_train['target_default']==0][a]], color = ['r','g'])"
   ]
  },
  {
   "cell_type": "code",
   "execution_count": 44,
   "metadata": {},
   "outputs": [
    {
     "data": {
      "text/html": [
       "<div>\n",
       "<style scoped>\n",
       "    .dataframe tbody tr th:only-of-type {\n",
       "        vertical-align: middle;\n",
       "    }\n",
       "\n",
       "    .dataframe tbody tr th {\n",
       "        vertical-align: top;\n",
       "    }\n",
       "\n",
       "    .dataframe thead th {\n",
       "        text-align: right;\n",
       "    }\n",
       "</style>\n",
       "<table border=\"1\" class=\"dataframe\">\n",
       "  <thead>\n",
       "    <tr style=\"text-align: right;\">\n",
       "      <th></th>\n",
       "      <th>ids</th>\n",
       "      <th>target_default</th>\n",
       "      <th>score_1</th>\n",
       "      <th>score_2</th>\n",
       "      <th>score_3</th>\n",
       "      <th>score_4</th>\n",
       "      <th>score_5</th>\n",
       "      <th>score_6</th>\n",
       "      <th>risk_rate</th>\n",
       "      <th>last_amount_borrowed</th>\n",
       "      <th>...</th>\n",
       "      <th>profile_phone_number</th>\n",
       "      <th>reported_income</th>\n",
       "      <th>shipping_state</th>\n",
       "      <th>shipping_zip_code</th>\n",
       "      <th>profile_tags</th>\n",
       "      <th>user_agent</th>\n",
       "      <th>target_fraud</th>\n",
       "      <th>application_hour_applied</th>\n",
       "      <th>application_minute_applied</th>\n",
       "      <th>application_second_applied</th>\n",
       "    </tr>\n",
       "    <tr>\n",
       "      <th>early_morning</th>\n",
       "      <th></th>\n",
       "      <th></th>\n",
       "      <th></th>\n",
       "      <th></th>\n",
       "      <th></th>\n",
       "      <th></th>\n",
       "      <th></th>\n",
       "      <th></th>\n",
       "      <th></th>\n",
       "      <th></th>\n",
       "      <th></th>\n",
       "      <th></th>\n",
       "      <th></th>\n",
       "      <th></th>\n",
       "      <th></th>\n",
       "      <th></th>\n",
       "      <th></th>\n",
       "      <th></th>\n",
       "      <th></th>\n",
       "      <th></th>\n",
       "      <th></th>\n",
       "    </tr>\n",
       "  </thead>\n",
       "  <tbody>\n",
       "    <tr>\n",
       "      <th>0</th>\n",
       "      <td>513</td>\n",
       "      <td>460</td>\n",
       "      <td>504</td>\n",
       "      <td>504</td>\n",
       "      <td>504</td>\n",
       "      <td>513</td>\n",
       "      <td>513</td>\n",
       "      <td>513</td>\n",
       "      <td>504</td>\n",
       "      <td>158</td>\n",
       "      <td>...</td>\n",
       "      <td>513</td>\n",
       "      <td>513</td>\n",
       "      <td>513</td>\n",
       "      <td>513</td>\n",
       "      <td>513</td>\n",
       "      <td>513</td>\n",
       "      <td>513</td>\n",
       "      <td>513</td>\n",
       "      <td>513</td>\n",
       "      <td>513</td>\n",
       "    </tr>\n",
       "    <tr>\n",
       "      <th>1</th>\n",
       "      <td>1009</td>\n",
       "      <td>897</td>\n",
       "      <td>983</td>\n",
       "      <td>983</td>\n",
       "      <td>983</td>\n",
       "      <td>1009</td>\n",
       "      <td>1009</td>\n",
       "      <td>1009</td>\n",
       "      <td>983</td>\n",
       "      <td>351</td>\n",
       "      <td>...</td>\n",
       "      <td>1009</td>\n",
       "      <td>1009</td>\n",
       "      <td>1009</td>\n",
       "      <td>1009</td>\n",
       "      <td>1009</td>\n",
       "      <td>1007</td>\n",
       "      <td>1009</td>\n",
       "      <td>1009</td>\n",
       "      <td>1009</td>\n",
       "      <td>1009</td>\n",
       "    </tr>\n",
       "  </tbody>\n",
       "</table>\n",
       "<p>2 rows × 46 columns</p>\n",
       "</div>"
      ],
      "text/plain": [
       "                ids  target_default  score_1  score_2  score_3  score_4  \\\n",
       "early_morning                                                             \n",
       "0               513             460      504      504      504      513   \n",
       "1              1009             897      983      983      983     1009   \n",
       "\n",
       "               score_5  score_6  risk_rate  last_amount_borrowed  \\\n",
       "early_morning                                                      \n",
       "0                  513      513        504                   158   \n",
       "1                 1009     1009        983                   351   \n",
       "\n",
       "                          ...              profile_phone_number  \\\n",
       "early_morning             ...                                     \n",
       "0                         ...                               513   \n",
       "1                         ...                              1009   \n",
       "\n",
       "               reported_income  shipping_state  shipping_zip_code  \\\n",
       "early_morning                                                       \n",
       "0                          513             513                513   \n",
       "1                         1009            1009               1009   \n",
       "\n",
       "               profile_tags  user_agent  target_fraud  \\\n",
       "early_morning                                           \n",
       "0                       513         513           513   \n",
       "1                      1009        1007          1009   \n",
       "\n",
       "               application_hour_applied  application_minute_applied  \\\n",
       "early_morning                                                         \n",
       "0                                   513                         513   \n",
       "1                                  1009                        1009   \n",
       "\n",
       "               application_second_applied  \n",
       "early_morning                              \n",
       "0                                     513  \n",
       "1                                    1009  \n",
       "\n",
       "[2 rows x 46 columns]"
      ]
     },
     "execution_count": 44,
     "metadata": {},
     "output_type": "execute_result"
    }
   ],
   "source": [
    "acq_train[(~acq_train['target_fraud'].isna())].groupby(['early_morning']).count()"
   ]
  },
  {
   "cell_type": "code",
   "execution_count": null,
   "metadata": {},
   "outputs": [],
   "source": [
    "acq_train[~acq_train['target_fraud'].isna()]['application_hour_applied'].hist()"
   ]
  },
  {
   "cell_type": "markdown",
   "metadata": {},
   "source": [
    "## Plots"
   ]
  },
  {
   "cell_type": "code",
   "execution_count": 184,
   "metadata": {},
   "outputs": [
    {
     "data": {
      "image/png": "[encoded data removed]",
      "text/plain": [
       "<Figure size 432x288 with 1 Axes>"
      ]
     },
     "metadata": {
      "needs_background": "light"
     },
     "output_type": "display_data"
    }
   ],
   "source": [
    "feat = 'target_default'\n",
    "vals = list(acq_train[feat].unique())\n",
    "names = ['True' if (i == 1) else 'False' for i in vals ]\n",
    "values = [sum(acq_train[feat]==i) for i in vals]\n",
    "\n",
    "plt.bar(names, values)\n",
    "plt.grid()\n",
    "\n",
    "#print(vals)\n",
    "#print(names)\n",
    "#print(values)"
   ]
  },
  {
   "cell_type": "code",
   "execution_count": 210,
   "metadata": {},
   "outputs": [
    {
     "data": {
      "image/png": "[encoded data removed]",
      "text/plain": [
       "<Figure size 432x288 with 1 Axes>"
      ]
     },
     "metadata": {
      "needs_background": "light"
     },
     "output_type": "display_data"
    }
   ],
   "source": [
    "feat = 'target_fraud'\n",
    "vals = [str(i) for i in list(acq_train[feat].unique())]\n",
    "types = [type(v) for v in vals]\n",
    "names = ['True' if (i == 'nan') else 'False' for i in vals ]\n",
    "values = [sum(acq_train[feat]==i) if i != 'nan' else acq_train[feat].isna().sum() for i in vals]\n",
    "\n",
    "plt.bar(vals, values)\n",
    "plt.grid()"
   ]
  },
  {
   "cell_type": "code",
   "execution_count": 211,
   "metadata": {},
   "outputs": [
    {
     "data": {
      "image/png": "[encoded data removed]",
      "text/plain": [
       "<Figure size 432x288 with 1 Axes>"
      ]
     },
     "metadata": {
      "needs_background": "light"
     },
     "output_type": "display_data"
    }
   ],
   "source": [
    "plt.bar(vals[1:], values[1:])\n",
    "plt.grid()"
   ]
  },
  {
   "cell_type": "code",
   "execution_count": 28,
   "metadata": {},
   "outputs": [
    {
     "data": {
      "text/plain": [
       "<matplotlib.axes._subplots.AxesSubplot at 0x1a0f5a9fd0>"
      ]
     },
     "execution_count": 28,
     "metadata": {},
     "output_type": "execute_result"
    },
    {
     "data": {
      "image/png": "[encoded data removed]",
      "text/plain": [
       "<Figure size 432x288 with 1 Axes>"
      ]
     },
     "metadata": {
      "needs_background": "light"
     },
     "output_type": "display_data"
    }
   ],
   "source": [
    "acq_train[~acq_train['target_fraud'].isna()]['application_hour_applied'].hist()"
   ]
  },
  {
   "cell_type": "code",
   "execution_count": 78,
   "metadata": {},
   "outputs": [
    {
     "data": {
      "text/plain": [
       "<matplotlib.axes._subplots.AxesSubplot at 0x1a16f18a58>"
      ]
     },
     "execution_count": 78,
     "metadata": {},
     "output_type": "execute_result"
    },
    {
     "data": {
      "image/png": "[encoded data removed]",
      "text/plain": [
       "<Figure size 432x288 with 1 Axes>"
      ]
     },
     "metadata": {
      "needs_background": "light"
     },
     "output_type": "display_data"
    }
   ],
   "source": [
    "acq_train[acq_train['target_default']==True]['shipping_state'].value_counts().plot(kind='bar')"
   ]
  },
  {
   "cell_type": "code",
   "execution_count": 13,
   "metadata": {},
   "outputs": [
    {
     "data": {
      "text/plain": [
       "<matplotlib.axes._subplots.AxesSubplot at 0x1a1e3a89b0>"
      ]
     },
     "execution_count": 13,
     "metadata": {},
     "output_type": "execute_result"
    },
    {
     "data": {
      "image/png": "[encoded data removed]",
      "text/plain": [
       "<Figure size 432x288 with 1 Axes>"
      ]
     },
     "metadata": {
      "needs_background": "light"
     },
     "output_type": "display_data"
    }
   ],
   "source": [
    "acq_train[(acq_train['target_default']==True)].\\\n",
    "    groupby(['shipping_zip_code']).\\\n",
    "    filter(lambda x: len(x) > 2)['shipping_zip_code'].value_counts().plot(kind='bar')"
   ]
  },
  {
   "cell_type": "code",
   "execution_count": 85,
   "metadata": {},
   "outputs": [
    {
     "data": {
      "text/plain": [
       "<matplotlib.legend.Legend at 0x1a1a4d3fd0>"
      ]
     },
     "execution_count": 85,
     "metadata": {},
     "output_type": "execute_result"
    },
    {
     "data": {
      "image/png": "[encoded data removed]",
      "text/plain": [
       "<Figure size 432x288 with 1 Axes>"
      ]
     },
     "metadata": {
      "needs_background": "light"
     },
     "output_type": "display_data"
    }
   ],
   "source": [
    "#limit = acq_train['income'].max()\n",
    "limit = 300000\n",
    "income_default = acq_train[(acq_train['target_default']==True) & (acq_train['income']< limit)]['income'].values.tolist()\n",
    "income_nodefault = acq_train[(acq_train['target_default']==False) & (acq_train['income']< limit)]['income'].values.tolist()\n",
    "\n",
    "bins = np.linspace(0, limit, 100)\n",
    "\n",
    "plt.hist(income_default, bins, alpha=0.5, label='default', color='red')\n",
    "plt.hist(income_nodefault, bins, alpha=0.5, label='no default', color='green')\n",
    "plt.legend(loc='upper right')"
   ]
  },
  {
   "cell_type": "markdown",
   "metadata": {},
   "source": [
    "### Mapa"
   ]
  },
  {
   "cell_type": "code",
   "execution_count": 150,
   "metadata": {},
   "outputs": [
    {
     "data": {
      "image/png": "[encoded data removed]",
      "text/plain": [
       "<Figure size 720x720 with 1 Axes>"
      ]
     },
     "metadata": {
      "needs_background": "light"
     },
     "output_type": "display_data"
    }
   ],
   "source": [
    "\n",
    "fig = plt.figure(figsize=(10, 10))\n",
    "\n",
    "# 2. scatter city data, with color reflecting population\n",
    "# and size reflecting area\n",
    "plt.scatter(acq_train[acq_train['target_default']==True]['lon'], \n",
    "            acq_train[acq_train['target_default']==True]['lat'],\n",
    "          cmap='Reds', alpha=0.2, s=10)\n",
    "\n",
    "plt.scatter(acq_train[~acq_train['target_fraud'].isna()]['lon'], \n",
    "            acq_train[~acq_train['target_fraud'].isna()]['lat'],\n",
    "          cmap='Reds', alpha=0.2, s=10,c='r')\n",
    "\n",
    "plt.grid(alpha=0.2)\n",
    "\n",
    "#plt.scatter(acq_train[acq_train['target_default']==0]['lon'], \n",
    "#            acq_train[acq_train['target_default']==0]['lat'],\n",
    "#          cmap='Reds', alpha=0.1, s=10)"
   ]
  },
  {
   "cell_type": "code",
   "execution_count": null,
   "metadata": {},
   "outputs": [],
   "source": [
    "'''\n",
    "df = df[['STNAME','CTYNAME']].groupby(['STNAME'])['CTYNAME'] \\\n",
    "                             .count() \\\n",
    "                             .reset_index(name='count') \\\n",
    "                             .sort_values(['count'], ascending=False) \\\n",
    "                             .head(5)\n",
    "'''"
   ]
  },
  {
   "cell_type": "code",
   "execution_count": 28,
   "metadata": {},
   "outputs": [
    {
     "data": {
      "text/html": [
       "<div>\n",
       "<style scoped>\n",
       "    .dataframe tbody tr th:only-of-type {\n",
       "        vertical-align: middle;\n",
       "    }\n",
       "\n",
       "    .dataframe tbody tr th {\n",
       "        vertical-align: top;\n",
       "    }\n",
       "\n",
       "    .dataframe thead th {\n",
       "        text-align: right;\n",
       "    }\n",
       "</style>\n",
       "<table border=\"1\" class=\"dataframe\">\n",
       "  <thead>\n",
       "    <tr style=\"text-align: right;\">\n",
       "      <th></th>\n",
       "      <th>ids</th>\n",
       "      <th>target_default</th>\n",
       "      <th>score_1</th>\n",
       "      <th>score_2</th>\n",
       "      <th>score_3</th>\n",
       "      <th>score_4</th>\n",
       "      <th>score_5</th>\n",
       "      <th>score_6</th>\n",
       "      <th>risk_rate</th>\n",
       "      <th>last_amount_borrowed</th>\n",
       "      <th>...</th>\n",
       "      <th>marketing_channel</th>\n",
       "      <th>profile_phone_number</th>\n",
       "      <th>reported_income</th>\n",
       "      <th>shipping_state</th>\n",
       "      <th>shipping_zip_code</th>\n",
       "      <th>profile_tags</th>\n",
       "      <th>user_agent</th>\n",
       "      <th>target_fraud</th>\n",
       "      <th>lat</th>\n",
       "      <th>lon</th>\n",
       "    </tr>\n",
       "    <tr>\n",
       "      <th>external_data_provider_credit_checks_last_year</th>\n",
       "      <th></th>\n",
       "      <th></th>\n",
       "      <th></th>\n",
       "      <th></th>\n",
       "      <th></th>\n",
       "      <th></th>\n",
       "      <th></th>\n",
       "      <th></th>\n",
       "      <th></th>\n",
       "      <th></th>\n",
       "      <th></th>\n",
       "      <th></th>\n",
       "      <th></th>\n",
       "      <th></th>\n",
       "      <th></th>\n",
       "      <th></th>\n",
       "      <th></th>\n",
       "      <th></th>\n",
       "      <th></th>\n",
       "      <th></th>\n",
       "      <th></th>\n",
       "    </tr>\n",
       "  </thead>\n",
       "  <tbody>\n",
       "    <tr>\n",
       "      <th>0.0</th>\n",
       "      <td>13744</td>\n",
       "      <td>13744</td>\n",
       "      <td>13744</td>\n",
       "      <td>13744</td>\n",
       "      <td>13744</td>\n",
       "      <td>13744</td>\n",
       "      <td>13744</td>\n",
       "      <td>13744</td>\n",
       "      <td>13744</td>\n",
       "      <td>13744</td>\n",
       "      <td>...</td>\n",
       "      <td>12652</td>\n",
       "      <td>13744</td>\n",
       "      <td>13744</td>\n",
       "      <td>13744</td>\n",
       "      <td>13744</td>\n",
       "      <td>13744</td>\n",
       "      <td>13550</td>\n",
       "      <td>431</td>\n",
       "      <td>13324</td>\n",
       "      <td>13324</td>\n",
       "    </tr>\n",
       "    <tr>\n",
       "      <th>1.0</th>\n",
       "      <td>13976</td>\n",
       "      <td>13976</td>\n",
       "      <td>13976</td>\n",
       "      <td>13976</td>\n",
       "      <td>13976</td>\n",
       "      <td>13976</td>\n",
       "      <td>13976</td>\n",
       "      <td>13976</td>\n",
       "      <td>13976</td>\n",
       "      <td>13976</td>\n",
       "      <td>...</td>\n",
       "      <td>12866</td>\n",
       "      <td>13976</td>\n",
       "      <td>13976</td>\n",
       "      <td>13976</td>\n",
       "      <td>13976</td>\n",
       "      <td>13976</td>\n",
       "      <td>13731</td>\n",
       "      <td>456</td>\n",
       "      <td>13564</td>\n",
       "      <td>13564</td>\n",
       "    </tr>\n",
       "  </tbody>\n",
       "</table>\n",
       "<p>2 rows × 44 columns</p>\n",
       "</div>"
      ],
      "text/plain": [
       "                                                  ids  target_default  \\\n",
       "external_data_provider_credit_checks_last_year                          \n",
       "0.0                                             13744           13744   \n",
       "1.0                                             13976           13976   \n",
       "\n",
       "                                                score_1  score_2  score_3  \\\n",
       "external_data_provider_credit_checks_last_year                              \n",
       "0.0                                               13744    13744    13744   \n",
       "1.0                                               13976    13976    13976   \n",
       "\n",
       "                                                score_4  score_5  score_6  \\\n",
       "external_data_provider_credit_checks_last_year                              \n",
       "0.0                                               13744    13744    13744   \n",
       "1.0                                               13976    13976    13976   \n",
       "\n",
       "                                                risk_rate  \\\n",
       "external_data_provider_credit_checks_last_year              \n",
       "0.0                                                 13744   \n",
       "1.0                                                 13976   \n",
       "\n",
       "                                                last_amount_borrowed  ...    \\\n",
       "external_data_provider_credit_checks_last_year                        ...     \n",
       "0.0                                                            13744  ...     \n",
       "1.0                                                            13976  ...     \n",
       "\n",
       "                                                marketing_channel  \\\n",
       "external_data_provider_credit_checks_last_year                      \n",
       "0.0                                                         12652   \n",
       "1.0                                                         12866   \n",
       "\n",
       "                                                profile_phone_number  \\\n",
       "external_data_provider_credit_checks_last_year                         \n",
       "0.0                                                            13744   \n",
       "1.0                                                            13976   \n",
       "\n",
       "                                                reported_income  \\\n",
       "external_data_provider_credit_checks_last_year                    \n",
       "0.0                                                       13744   \n",
       "1.0                                                       13976   \n",
       "\n",
       "                                                shipping_state  \\\n",
       "external_data_provider_credit_checks_last_year                   \n",
       "0.0                                                      13744   \n",
       "1.0                                                      13976   \n",
       "\n",
       "                                                shipping_zip_code  \\\n",
       "external_data_provider_credit_checks_last_year                      \n",
       "0.0                                                         13744   \n",
       "1.0                                                         13976   \n",
       "\n",
       "                                                profile_tags  user_agent  \\\n",
       "external_data_provider_credit_checks_last_year                             \n",
       "0.0                                                    13744       13550   \n",
       "1.0                                                    13976       13731   \n",
       "\n",
       "                                                target_fraud    lat    lon  \n",
       "external_data_provider_credit_checks_last_year                              \n",
       "0.0                                                      431  13324  13324  \n",
       "1.0                                                      456  13564  13564  \n",
       "\n",
       "[2 rows x 44 columns]"
      ]
     },
     "execution_count": 28,
     "metadata": {},
     "output_type": "execute_result"
    }
   ],
   "source": [
    "acq_train.groupby(['external_data_provider_credit_checks_last_year']).count()"
   ]
  },
  {
   "cell_type": "markdown",
   "metadata": {},
   "source": [
    "## Model"
   ]
  },
  {
   "cell_type": "code",
   "execution_count": 46,
   "metadata": {},
   "outputs": [],
   "source": [
    "#var_all = acq_train.keys().values.tolist()\n",
    "var_all = [\n",
    " 'score_1',\n",
    " 'score_2',\n",
    " 'score_3',\n",
    " 'score_4',\n",
    " 'score_5',\n",
    " 'score_6',\n",
    " 'risk_rate',\n",
    " 'last_amount_borrowed',\n",
    " 'last_borrowed_in_months',\n",
    " 'credit_limit',\n",
    "# 'reason',\n",
    " 'income',\n",
    " 'facebook_profile',\n",
    "# 'state',\n",
    "# 'real_state',\n",
    "# 'n_bankruptcies',\n",
    "# 'n_defaulted_loans',\n",
    "# 'n_accounts',\n",
    "# 'n_issues',\n",
    "# 'application_time_applied',\n",
    "# 'application_time_in_funnel',\n",
    "# 'email',\n",
    " 'external_data_provider_credit_checks_last_2_year',\n",
    " 'external_data_provider_credit_checks_last_month',\n",
    " 'external_data_provider_credit_checks_last_year',\n",
    "# 'external_data_provider_email_seen_before',\n",
    " 'external_data_provider_fraud_score',\n",
    "# 'marketing_channel',\n",
    "# 'reported_income',\n",
    "# 'lat',\n",
    "# 'lon'\n",
    "]"
   ]
  },
  {
   "cell_type": "code",
   "execution_count": 141,
   "metadata": {},
   "outputs": [],
   "source": [
    "variables = ['score_1','score_2','score_3', 'score_4', 'score_6', 'risk_rate', 'early_morning']\n",
    "\n",
    "from sklearn.model_selection import train_test_split\n",
    "\n",
    "X_all = acq_train[variables]\n",
    "#X_all = acq_train[var_all]\n",
    "y_all = acq_train['target_default']\n",
    "\n",
    "num_test = 0.20\n",
    "X_train, X_test, y_train, y_test = train_test_split(X_all, y_all, test_size=num_test, random_state=42)"
   ]
  },
  {
   "cell_type": "code",
   "execution_count": 142,
   "metadata": {},
   "outputs": [
    {
     "data": {
      "text/plain": [
       "RandomForestClassifier(bootstrap=True, class_weight=None, criterion='entropy',\n",
       "            max_depth=5, max_features='sqrt', max_leaf_nodes=None,\n",
       "            min_impurity_decrease=0.0, min_impurity_split=None,\n",
       "            min_samples_leaf=8, min_samples_split=10,\n",
       "            min_weight_fraction_leaf=0.0, n_estimators=4, n_jobs=None,\n",
       "            oob_score=False, random_state=None, verbose=0,\n",
       "            warm_start=False)"
      ]
     },
     "execution_count": 142,
     "metadata": {},
     "output_type": "execute_result"
    }
   ],
   "source": [
    "\n",
    "# Choose the type of classifier. \n",
    "clf = RandomForestClassifier()\n",
    "\n",
    "# Choose some parameter combinations to try\n",
    "run_gs = True\n",
    "if run_gs:\n",
    "    parameters = {'n_estimators': [4, 6, 9], \n",
    "                  'max_features': ['log2', 'sqrt','auto'], \n",
    "                  'criterion': ['entropy', 'gini'],\n",
    "                  'max_depth': [3, 5, 10], \n",
    "                  'min_samples_split': [5,8,10],\n",
    "                  'min_samples_leaf': [5,8,10]\n",
    "                 }\n",
    "else: \n",
    "     parameters = {'n_estimators': [9], \n",
    "                  'max_features': ['sqrt'], \n",
    "                  'criterion': ['gini'],\n",
    "                  'max_depth': [5], \n",
    "                  'min_samples_split': [5],\n",
    "                  'min_samples_leaf': [8]\n",
    "                 }\n",
    "\n",
    "# Type of scoring used to compare parameter combinations\n",
    "acc_scorer = make_scorer(accuracy_score)\n",
    "\n",
    "# Run the grid search\n",
    "grid_obj = GridSearchCV(clf, parameters, scoring=acc_scorer, cv=5)\n",
    "grid_obj.fit(X_train, y_train)\n",
    "\n",
    "# Set the clf to the best combination of parameters\n",
    "clf = grid_obj.best_estimator_\n",
    "\n",
    "#RandomForestClassifier(bootstrap=True, class_weight=None, criterion='gini',\n",
    "#            max_depth=5, max_features='sqrt', max_leaf_nodes=None,\n",
    "#            min_impurity_decrease=0.0, min_impurity_split=None,\n",
    "#            min_samples_leaf=8, min_samples_split=5,\n",
    "#            min_weight_fraction_leaf=0.0, n_estimators=9, n_jobs=None,\n",
    "#            oob_score=False, random_state=None, verbose=0,\n",
    "#            warm_start=False)\n",
    "\n",
    "# Fit the best algorithm to the data. \n",
    "clf.fit(X_train, y_train)"
   ]
  },
  {
   "cell_type": "code",
   "execution_count": 143,
   "metadata": {},
   "outputs": [
    {
     "name": "stdout",
     "output_type": "stream",
     "text": [
      "0.848844172955\n",
      "0.500791139241\n"
     ]
    }
   ],
   "source": [
    "predictions = clf.predict(X_test)\n",
    "print(accuracy_score(y_test, predictions))\n",
    "print(roc_auc_score(y_test,predictions))"
   ]
  },
  {
   "cell_type": "code",
   "execution_count": 144,
   "metadata": {},
   "outputs": [
    {
     "data": {
      "text/plain": [
       "AdaBoostClassifier(algorithm='SAMME.R',\n",
       "          base_estimator=RandomForestClassifier(bootstrap=True, class_weight=None, criterion='entropy',\n",
       "            max_depth=5, max_features='sqrt', max_leaf_nodes=None,\n",
       "            min_impurity_decrease=0.0, min_impurity_split=None,\n",
       "            min_samples_leaf=8, min_samples_split=10,\n",
       "            min_weight_fraction_leaf=0.0, n_estimators=4, n_jobs=None,\n",
       "            oob_score=False, random_state=None, verbose=0,\n",
       "            warm_start=False),\n",
       "          learning_rate=1.0, n_estimators=8, random_state=None)"
      ]
     },
     "execution_count": 144,
     "metadata": {},
     "output_type": "execute_result"
    }
   ],
   "source": [
    "from sklearn.ensemble import AdaBoostClassifier\n",
    "\n",
    "model = AdaBoostClassifier(base_estimator = clf, n_estimators = 8)\n",
    "model.fit(X_train,y_train)"
   ]
  },
  {
   "cell_type": "code",
   "execution_count": 145,
   "metadata": {},
   "outputs": [
    {
     "name": "stdout",
     "output_type": "stream",
     "text": [
      "0.848484848485\n",
      "0.504804398221\n"
     ]
    }
   ],
   "source": [
    "predictions = model.predict(X_test)\n",
    "print(accuracy_score(y_test, predictions))\n",
    "print(roc_auc_score(y_test,predictions))"
   ]
  },
  {
   "cell_type": "code",
   "execution_count": 27,
   "metadata": {},
   "outputs": [],
   "source": [
    "y_test = y_test.reset_index()"
   ]
  },
  {
   "cell_type": "code",
   "execution_count": 145,
   "metadata": {},
   "outputs": [],
   "source": [
    "idx = [y_test['index'].loc[i] for i in range(len(predictions)) if predictions[i] != y_test['target_default'].loc[i]]"
   ]
  },
  {
   "cell_type": "code",
   "execution_count": 147,
   "metadata": {},
   "outputs": [
    {
     "data": {
      "text/plain": [
       "score_1        3.000000\n",
       "score_2        9.000000\n",
       "score_3      200.000000\n",
       "score_4       93.662160\n",
       "score_6       82.053903\n",
       "risk_rate      0.200000\n",
       "Name: 44104, dtype: float64"
      ]
     },
     "execution_count": 147,
     "metadata": {},
     "output_type": "execute_result"
    }
   ],
   "source": [
    "X_test.loc[44104]"
   ]
  },
  {
   "cell_type": "markdown",
   "metadata": {},
   "source": [
    "### LightGBM"
   ]
  },
  {
   "cell_type": "code",
   "execution_count": 61,
   "metadata": {},
   "outputs": [
    {
     "name": "stderr",
     "output_type": "stream",
     "text": [
      "/anaconda2/envs/challenge/lib/python3.6/site-packages/sklearn/preprocessing/data.py:617: DataConversionWarning: Data with input dtype int8, int64, float64 were all converted to float64 by StandardScaler.\n",
      "  return self.partial_fit(X, y)\n",
      "/anaconda2/envs/challenge/lib/python3.6/site-packages/sklearn/base.py:462: DataConversionWarning: Data with input dtype int8, int64, float64 were all converted to float64 by StandardScaler.\n",
      "  return self.fit(X, **fit_params).transform(X)\n",
      "/anaconda2/envs/challenge/lib/python3.6/site-packages/ipykernel_launcher.py:5: DataConversionWarning: Data with input dtype int8, int64, float64 were all converted to float64 by StandardScaler.\n",
      "  \"\"\"\n"
     ]
    }
   ],
   "source": [
    "# Feature Scaling\n",
    "from sklearn.preprocessing import StandardScaler\n",
    "sc = StandardScaler()\n",
    "X_train = sc.fit_transform(X_train)\n",
    "X_test = sc.transform(X_test)"
   ]
  },
  {
   "cell_type": "code",
   "execution_count": 62,
   "metadata": {},
   "outputs": [],
   "source": [
    "import lightgbm as lgb\n",
    "d_train = lgb.Dataset(X_train, label=y_train)\n",
    "params = {}\n",
    "params['learning_rate'] = 0.003\n",
    "params['boosting_type'] = 'gbdt'\n",
    "params['objective'] = 'binary'\n",
    "params['metric'] = 'binary_logloss'\n",
    "params['sub_feature'] = 0.5\n",
    "params['num_leaves'] = 10\n",
    "params['min_data'] = 50\n",
    "params['max_depth'] = 10\n",
    "clf2 = lgb.train(params, d_train, 100)"
   ]
  },
  {
   "cell_type": "code",
   "execution_count": 63,
   "metadata": {},
   "outputs": [],
   "source": [
    "y_pred=clf2.predict(X_test)\n",
    "predictions = []\n",
    "#convert into binary values\n",
    "for i in range(y_pred.shape[0]):\n",
    "    if y_pred[i]>=.5:       # setting threshold to .5\n",
    "        predictions.append(True)\n",
    "    else:  \n",
    "        predictions.append(False)"
   ]
  },
  {
   "cell_type": "code",
   "execution_count": 66,
   "metadata": {},
   "outputs": [
    {
     "name": "stdout",
     "output_type": "stream",
     "text": [
      "0.848604623308\n",
      "0.5\n"
     ]
    }
   ],
   "source": [
    "print(accuracy_score(y_test, predictions))\n",
    "print(roc_auc_score(y_test,predictions))"
   ]
  },
  {
   "cell_type": "code",
   "execution_count": 151,
   "metadata": {},
   "outputs": [
    {
     "data": {
      "text/plain": [
       "array([ 6,  1,  3,  2,  0,  4, -1,  5])"
      ]
     },
     "execution_count": 151,
     "metadata": {},
     "output_type": "execute_result"
    }
   ],
   "source": [
    "acq_test['score_1'].unique()"
   ]
  }
 ],
 "metadata": {
  "kernelspec": {
   "display_name": "Python 3",
   "language": "python",
   "name": "python3"
  },
  "language_info": {
   "codemirror_mode": {
    "name": "ipython",
    "version": 3
   },
   "file_extension": ".py",
   "mimetype": "text/x-python",
   "name": "python",
   "nbconvert_exporter": "python",
   "pygments_lexer": "ipython3",
   "version": "3.6.6"
  }
 },
 "nbformat": 4,
 "nbformat_minor": 2
}
