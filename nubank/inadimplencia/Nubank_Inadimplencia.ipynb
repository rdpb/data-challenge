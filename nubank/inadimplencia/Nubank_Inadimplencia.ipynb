{
 "cells": [
  {
   "cell_type": "markdown",
   "metadata": {},
   "source": [
    "Desenvolvemos aqui um modelo para predição de inadimplência, utilizando idéias obtidas na análise dos dados.\n",
    "Considerando os dados da aquisição, desejamos ao final a probabilidade de um usuário ser inadimplente."
   ]
  },
  {
   "cell_type": "markdown",
   "metadata": {},
   "source": [
    "# Inicialização"
   ]
  },
  {
   "cell_type": "code",
   "execution_count": 1,
   "metadata": {},
   "outputs": [],
   "source": [
    "# Imports necessários\n",
    "import pandas as pd\n",
    "import numpy as np\n",
    "import math\n",
    "\n",
    "import matplotlib.pyplot as plt\n",
    "import matplotlib.style as style\n",
    "import seaborn as sns\n",
    "\n",
    "import missingno as msno\n",
    "import gc\n",
    "\n",
    "from ast import literal_eval\n",
    "\n",
    "style.use('bmh')\n",
    "\n",
    "%matplotlib inline"
   ]
  },
  {
   "cell_type": "code",
   "execution_count": 2,
   "metadata": {},
   "outputs": [],
   "source": [
    "# Lendo os conjuntos de dados\n",
    "acq_train = pd.read_csv('../data/acquisition_train.csv')\n",
    "acq_test = pd.read_csv('../data/acquisition_test.csv')\n",
    "spend_train = pd.read_csv('../data/spend_train.csv')"
   ]
  },
  {
   "cell_type": "markdown",
   "metadata": {},
   "source": [
    "# Limpeza dos dados"
   ]
  },
  {
   "cell_type": "code",
   "execution_count": 3,
   "metadata": {
    "scrolled": true
   },
   "outputs": [
    {
     "data": {
      "text/html": [
       "<div>\n",
       "<style scoped>\n",
       "    .dataframe tbody tr th:only-of-type {\n",
       "        vertical-align: middle;\n",
       "    }\n",
       "\n",
       "    .dataframe tbody tr th {\n",
       "        vertical-align: top;\n",
       "    }\n",
       "\n",
       "    .dataframe thead th {\n",
       "        text-align: right;\n",
       "    }\n",
       "</style>\n",
       "<table border=\"1\" class=\"dataframe\">\n",
       "  <thead>\n",
       "    <tr style=\"text-align: right;\">\n",
       "      <th></th>\n",
       "      <th>score_3</th>\n",
       "      <th>score_4</th>\n",
       "      <th>score_5</th>\n",
       "      <th>score_6</th>\n",
       "      <th>risk_rate</th>\n",
       "      <th>last_amount_borrowed</th>\n",
       "      <th>last_borrowed_in_months</th>\n",
       "      <th>credit_limit</th>\n",
       "      <th>income</th>\n",
       "      <th>ok_since</th>\n",
       "      <th>...</th>\n",
       "      <th>n_accounts</th>\n",
       "      <th>n_issues</th>\n",
       "      <th>application_time_in_funnel</th>\n",
       "      <th>external_data_provider_credit_checks_last_2_year</th>\n",
       "      <th>external_data_provider_credit_checks_last_month</th>\n",
       "      <th>external_data_provider_credit_checks_last_year</th>\n",
       "      <th>external_data_provider_email_seen_before</th>\n",
       "      <th>external_data_provider_fraud_score</th>\n",
       "      <th>reported_income</th>\n",
       "      <th>shipping_zip_code</th>\n",
       "    </tr>\n",
       "  </thead>\n",
       "  <tbody>\n",
       "    <tr>\n",
       "      <th>count</th>\n",
       "      <td>44438.000000</td>\n",
       "      <td>45000.000000</td>\n",
       "      <td>45000.000000</td>\n",
       "      <td>45000.000000</td>\n",
       "      <td>44438.000000</td>\n",
       "      <td>15044.000000</td>\n",
       "      <td>15044.000000</td>\n",
       "      <td>31200.000000</td>\n",
       "      <td>4.443800e+04</td>\n",
       "      <td>18455.000000</td>\n",
       "      <td>...</td>\n",
       "      <td>44438.000000</td>\n",
       "      <td>33456.000000</td>\n",
       "      <td>45000.000000</td>\n",
       "      <td>22372.0</td>\n",
       "      <td>45000.000000</td>\n",
       "      <td>29876.000000</td>\n",
       "      <td>42767.000000</td>\n",
       "      <td>45000.000000</td>\n",
       "      <td>4.500000e+04</td>\n",
       "      <td>45000.000000</td>\n",
       "    </tr>\n",
       "    <tr>\n",
       "      <th>mean</th>\n",
       "      <td>347.983258</td>\n",
       "      <td>100.006797</td>\n",
       "      <td>0.500037</td>\n",
       "      <td>99.925228</td>\n",
       "      <td>0.296717</td>\n",
       "      <td>13782.341991</td>\n",
       "      <td>41.763893</td>\n",
       "      <td>34381.951154</td>\n",
       "      <td>7.160739e+04</td>\n",
       "      <td>35.069737</td>\n",
       "      <td>...</td>\n",
       "      <td>10.696701</td>\n",
       "      <td>11.068119</td>\n",
       "      <td>247.537000</td>\n",
       "      <td>0.0</td>\n",
       "      <td>1.501067</td>\n",
       "      <td>0.503381</td>\n",
       "      <td>12.534781</td>\n",
       "      <td>500.399800</td>\n",
       "      <td>inf</td>\n",
       "      <td>33923.514844</td>\n",
       "    </tr>\n",
       "    <tr>\n",
       "      <th>std</th>\n",
       "      <td>110.429165</td>\n",
       "      <td>3.178080</td>\n",
       "      <td>0.288326</td>\n",
       "      <td>10.016549</td>\n",
       "      <td>0.101933</td>\n",
       "      <td>8077.571933</td>\n",
       "      <td>10.252705</td>\n",
       "      <td>36586.982218</td>\n",
       "      <td>5.185897e+04</td>\n",
       "      <td>21.663194</td>\n",
       "      <td>...</td>\n",
       "      <td>4.592463</td>\n",
       "      <td>4.595501</td>\n",
       "      <td>146.118398</td>\n",
       "      <td>0.0</td>\n",
       "      <td>1.114941</td>\n",
       "      <td>0.499997</td>\n",
       "      <td>126.530487</td>\n",
       "      <td>287.968873</td>\n",
       "      <td>NaN</td>\n",
       "      <td>12692.406382</td>\n",
       "    </tr>\n",
       "    <tr>\n",
       "      <th>min</th>\n",
       "      <td>0.000000</td>\n",
       "      <td>86.191572</td>\n",
       "      <td>0.000035</td>\n",
       "      <td>60.663039</td>\n",
       "      <td>0.000000</td>\n",
       "      <td>1005.180000</td>\n",
       "      <td>36.000000</td>\n",
       "      <td>0.000000</td>\n",
       "      <td>4.821180e+03</td>\n",
       "      <td>0.000000</td>\n",
       "      <td>...</td>\n",
       "      <td>0.000000</td>\n",
       "      <td>0.000000</td>\n",
       "      <td>0.000000</td>\n",
       "      <td>0.0</td>\n",
       "      <td>0.000000</td>\n",
       "      <td>0.000000</td>\n",
       "      <td>-999.000000</td>\n",
       "      <td>0.000000</td>\n",
       "      <td>4.030000e+02</td>\n",
       "      <td>12001.000000</td>\n",
       "    </tr>\n",
       "    <tr>\n",
       "      <th>25%</th>\n",
       "      <td>270.000000</td>\n",
       "      <td>97.867036</td>\n",
       "      <td>0.252150</td>\n",
       "      <td>93.198353</td>\n",
       "      <td>0.220000</td>\n",
       "      <td>7519.502500</td>\n",
       "      <td>36.000000</td>\n",
       "      <td>10000.000000</td>\n",
       "      <td>4.501078e+04</td>\n",
       "      <td>17.000000</td>\n",
       "      <td>...</td>\n",
       "      <td>7.000000</td>\n",
       "      <td>8.000000</td>\n",
       "      <td>120.000000</td>\n",
       "      <td>0.0</td>\n",
       "      <td>1.000000</td>\n",
       "      <td>0.000000</td>\n",
       "      <td>11.000000</td>\n",
       "      <td>252.000000</td>\n",
       "      <td>5.094825e+04</td>\n",
       "      <td>22937.000000</td>\n",
       "    </tr>\n",
       "    <tr>\n",
       "      <th>50%</th>\n",
       "      <td>340.000000</td>\n",
       "      <td>100.018900</td>\n",
       "      <td>0.500753</td>\n",
       "      <td>99.974796</td>\n",
       "      <td>0.290000</td>\n",
       "      <td>12023.465000</td>\n",
       "      <td>36.000000</td>\n",
       "      <td>25647.000000</td>\n",
       "      <td>6.126676e+04</td>\n",
       "      <td>32.000000</td>\n",
       "      <td>...</td>\n",
       "      <td>10.000000</td>\n",
       "      <td>10.000000</td>\n",
       "      <td>248.000000</td>\n",
       "      <td>0.0</td>\n",
       "      <td>2.000000</td>\n",
       "      <td>1.000000</td>\n",
       "      <td>27.000000</td>\n",
       "      <td>503.000000</td>\n",
       "      <td>1.017790e+05</td>\n",
       "      <td>33896.000000</td>\n",
       "    </tr>\n",
       "    <tr>\n",
       "      <th>75%</th>\n",
       "      <td>420.000000</td>\n",
       "      <td>102.141797</td>\n",
       "      <td>0.748816</td>\n",
       "      <td>106.640275</td>\n",
       "      <td>0.360000</td>\n",
       "      <td>19220.270000</td>\n",
       "      <td>36.000000</td>\n",
       "      <td>47086.750000</td>\n",
       "      <td>8.601923e+04</td>\n",
       "      <td>50.000000</td>\n",
       "      <td>...</td>\n",
       "      <td>13.000000</td>\n",
       "      <td>14.000000</td>\n",
       "      <td>375.000000</td>\n",
       "      <td>0.0</td>\n",
       "      <td>2.000000</td>\n",
       "      <td>1.000000</td>\n",
       "      <td>43.000000</td>\n",
       "      <td>747.000000</td>\n",
       "      <td>1.513372e+05</td>\n",
       "      <td>44910.000000</td>\n",
       "    </tr>\n",
       "    <tr>\n",
       "      <th>max</th>\n",
       "      <td>990.000000</td>\n",
       "      <td>113.978234</td>\n",
       "      <td>0.999973</td>\n",
       "      <td>142.192400</td>\n",
       "      <td>0.900000</td>\n",
       "      <td>35059.600000</td>\n",
       "      <td>60.000000</td>\n",
       "      <td>448269.000000</td>\n",
       "      <td>5.000028e+06</td>\n",
       "      <td>141.000000</td>\n",
       "      <td>...</td>\n",
       "      <td>49.000000</td>\n",
       "      <td>49.000000</td>\n",
       "      <td>500.000000</td>\n",
       "      <td>0.0</td>\n",
       "      <td>3.000000</td>\n",
       "      <td>1.000000</td>\n",
       "      <td>59.000000</td>\n",
       "      <td>1000.000000</td>\n",
       "      <td>inf</td>\n",
       "      <td>56000.000000</td>\n",
       "    </tr>\n",
       "  </tbody>\n",
       "</table>\n",
       "<p>8 rows × 22 columns</p>\n",
       "</div>"
      ],
      "text/plain": [
       "            score_3       score_4       score_5       score_6     risk_rate  \\\n",
       "count  44438.000000  45000.000000  45000.000000  45000.000000  44438.000000   \n",
       "mean     347.983258    100.006797      0.500037     99.925228      0.296717   \n",
       "std      110.429165      3.178080      0.288326     10.016549      0.101933   \n",
       "min        0.000000     86.191572      0.000035     60.663039      0.000000   \n",
       "25%      270.000000     97.867036      0.252150     93.198353      0.220000   \n",
       "50%      340.000000    100.018900      0.500753     99.974796      0.290000   \n",
       "75%      420.000000    102.141797      0.748816    106.640275      0.360000   \n",
       "max      990.000000    113.978234      0.999973    142.192400      0.900000   \n",
       "\n",
       "       last_amount_borrowed  last_borrowed_in_months   credit_limit  \\\n",
       "count          15044.000000             15044.000000   31200.000000   \n",
       "mean           13782.341991                41.763893   34381.951154   \n",
       "std             8077.571933                10.252705   36586.982218   \n",
       "min             1005.180000                36.000000       0.000000   \n",
       "25%             7519.502500                36.000000   10000.000000   \n",
       "50%            12023.465000                36.000000   25647.000000   \n",
       "75%            19220.270000                36.000000   47086.750000   \n",
       "max            35059.600000                60.000000  448269.000000   \n",
       "\n",
       "             income      ok_since        ...            n_accounts  \\\n",
       "count  4.443800e+04  18455.000000        ...          44438.000000   \n",
       "mean   7.160739e+04     35.069737        ...             10.696701   \n",
       "std    5.185897e+04     21.663194        ...              4.592463   \n",
       "min    4.821180e+03      0.000000        ...              0.000000   \n",
       "25%    4.501078e+04     17.000000        ...              7.000000   \n",
       "50%    6.126676e+04     32.000000        ...             10.000000   \n",
       "75%    8.601923e+04     50.000000        ...             13.000000   \n",
       "max    5.000028e+06    141.000000        ...             49.000000   \n",
       "\n",
       "           n_issues  application_time_in_funnel  \\\n",
       "count  33456.000000                45000.000000   \n",
       "mean      11.068119                  247.537000   \n",
       "std        4.595501                  146.118398   \n",
       "min        0.000000                    0.000000   \n",
       "25%        8.000000                  120.000000   \n",
       "50%       10.000000                  248.000000   \n",
       "75%       14.000000                  375.000000   \n",
       "max       49.000000                  500.000000   \n",
       "\n",
       "       external_data_provider_credit_checks_last_2_year  \\\n",
       "count                                           22372.0   \n",
       "mean                                                0.0   \n",
       "std                                                 0.0   \n",
       "min                                                 0.0   \n",
       "25%                                                 0.0   \n",
       "50%                                                 0.0   \n",
       "75%                                                 0.0   \n",
       "max                                                 0.0   \n",
       "\n",
       "       external_data_provider_credit_checks_last_month  \\\n",
       "count                                     45000.000000   \n",
       "mean                                          1.501067   \n",
       "std                                           1.114941   \n",
       "min                                           0.000000   \n",
       "25%                                           1.000000   \n",
       "50%                                           2.000000   \n",
       "75%                                           2.000000   \n",
       "max                                           3.000000   \n",
       "\n",
       "       external_data_provider_credit_checks_last_year  \\\n",
       "count                                    29876.000000   \n",
       "mean                                         0.503381   \n",
       "std                                          0.499997   \n",
       "min                                          0.000000   \n",
       "25%                                          0.000000   \n",
       "50%                                          1.000000   \n",
       "75%                                          1.000000   \n",
       "max                                          1.000000   \n",
       "\n",
       "       external_data_provider_email_seen_before  \\\n",
       "count                              42767.000000   \n",
       "mean                                  12.534781   \n",
       "std                                  126.530487   \n",
       "min                                 -999.000000   \n",
       "25%                                   11.000000   \n",
       "50%                                   27.000000   \n",
       "75%                                   43.000000   \n",
       "max                                   59.000000   \n",
       "\n",
       "       external_data_provider_fraud_score  reported_income  shipping_zip_code  \n",
       "count                        45000.000000     4.500000e+04       45000.000000  \n",
       "mean                           500.399800              inf       33923.514844  \n",
       "std                            287.968873              NaN       12692.406382  \n",
       "min                              0.000000     4.030000e+02       12001.000000  \n",
       "25%                            252.000000     5.094825e+04       22937.000000  \n",
       "50%                            503.000000     1.017790e+05       33896.000000  \n",
       "75%                            747.000000     1.513372e+05       44910.000000  \n",
       "max                           1000.000000              inf       56000.000000  \n",
       "\n",
       "[8 rows x 22 columns]"
      ]
     },
     "execution_count": 3,
     "metadata": {},
     "output_type": "execute_result"
    }
   ],
   "source": [
    "acq_train.describe()"
   ]
  },
  {
   "cell_type": "markdown",
   "metadata": {},
   "source": [
    "## Manipulação de dados"
   ]
  },
  {
   "cell_type": "markdown",
   "metadata": {},
   "source": [
    "Aplicamos aqui os mesmos procedimentos aplicados antes da análise exploratória:\n",
    "\n",
    "- Criamos uma váriavel binária para indicar os valores conhecidos de fraude \n",
    "- Fazemos o *parsing* do horário de *application*, e guardamos apenas a hora do dia\n",
    "- Fazemos o *parsing* de `lat_lon` em duas novas colunas\n",
    "- Eliminamos a coluna de primeiro nome, pois não devem influenciar casos de fraude ou inadimplência\n",
    "- Alguns campos possuem valor infinito. Mudamos estes para ausentes (NaN)\n",
    "- Criamos listas para ajudar a discernir os diferentes tipos de variáveis"
   ]
  },
  {
   "cell_type": "code",
   "execution_count": 4,
   "metadata": {},
   "outputs": [],
   "source": [
    "acq_train['target_fraud_bin'] = acq_train['target_fraud'].apply(lambda x : False if pd.isna(x) else True)"
   ]
  },
  {
   "cell_type": "code",
   "execution_count": 5,
   "metadata": {},
   "outputs": [],
   "source": [
    "parse_time_hour = lambda x: x.split(':')[0]\n",
    "\n",
    "acq_train['application_hour_applied'] = pd.to_numeric(acq_train['application_time_applied'].apply(parse_time_hour)).replace(24,0)\n",
    "acq_train.drop('application_time_applied',inplace=True, axis=1)\n",
    "\n",
    "acq_test['application_hour_applied'] = pd.to_numeric(acq_test['application_time_applied'].apply(parse_time_hour)).replace(24,0)\n",
    "acq_test.drop('application_time_applied',inplace=True, axis=1)"
   ]
  },
  {
   "cell_type": "code",
   "execution_count": 6,
   "metadata": {},
   "outputs": [],
   "source": [
    "def lat_lon_parse (df):\n",
    "    df['lat_lon'] = df['lat_lon'].apply(lambda x: literal_eval(x) if pd.notnull(x) else x)\n",
    "    df[['lat','lon']] = df['lat_lon'].apply(pd.Series)\n",
    "    df.drop('lat_lon', inplace=True, axis=1)\n",
    "    \n",
    "lat_lon_parse(acq_train)\n",
    "lat_lon_parse(acq_test)"
   ]
  },
  {
   "cell_type": "code",
   "execution_count": 7,
   "metadata": {},
   "outputs": [],
   "source": [
    "acq_train.drop('external_data_provider_first_name',inplace=True,axis=1)\n",
    "acq_test.drop('external_data_provider_first_name',inplace=True,axis=1)"
   ]
  },
  {
   "cell_type": "code",
   "execution_count": 8,
   "metadata": {},
   "outputs": [],
   "source": [
    "category = ['ids',\n",
    " 'score_1',\n",
    " 'score_2',\n",
    " 'profile_tags',\n",
    " 'shipping_zip_code',\n",
    " 'reason',\n",
    " 'state',\n",
    " 'zip',\n",
    " 'job_name',\n",
    " 'real_state',\n",
    " 'user_agent',\n",
    " 'email',\n",
    " 'shipping_state',\n",
    " 'marketing_channel'\n",
    "]\n",
    "\n",
    "binary = ['target_default',     \n",
    "         'target_fraud_bin',\n",
    "         'facebook_profile'\n",
    "         ]\n",
    "\n",
    "discrete = ['last_borrowed_in_months',\n",
    " 'application_hour_applied',\n",
    "  'ok_since',\n",
    " 'n_bankruptcies',\n",
    " 'n_defaulted_loans',\n",
    " 'n_accounts',\n",
    " 'n_issues',\n",
    " 'external_data_provider_credit_checks_last_2_year',\n",
    " 'external_data_provider_credit_checks_last_month',\n",
    " 'external_data_provider_credit_checks_last_year',\n",
    "  'external_data_provider_email_seen_before'\n",
    "]\n",
    "\n",
    "continuous = ['score_3',\n",
    " 'score_4',\n",
    " 'score_5',\n",
    " 'score_6',\n",
    " 'risk_rate',\n",
    " 'last_amount_borrowed',\n",
    " 'application_time_in_funnel',\n",
    " 'credit_limit',\n",
    " 'income',\n",
    " 'reported_income',    \n",
    " 'external_data_provider_fraud_score',\n",
    " 'lat',\n",
    " 'lon']\n",
    "\n",
    "for c in category:\n",
    "    acq_train[c].astype('category')"
   ]
  },
  {
   "cell_type": "code",
   "execution_count": 9,
   "metadata": {},
   "outputs": [],
   "source": [
    "# Ajustar valores de income\n",
    "acq_train.replace(np.inf,np.nan, inplace=True)\n",
    "acq_test.replace(np.inf,np.nan, inplace=True)"
   ]
  },
  {
   "cell_type": "markdown",
   "metadata": {},
   "source": [
    "E aplicamos mais alguns passos:\n",
    "\n",
    "- `channel` só possui um valor, então podemos eliminá-la pois não interfere no modelo\n",
    "- Consertamos alguns *typos* em `email`"
   ]
  },
  {
   "cell_type": "code",
   "execution_count": 10,
   "metadata": {},
   "outputs": [],
   "source": [
    "cols_todrop = ['channel']\n",
    "acq_train.drop(cols_todrop,axis=1,inplace=True)\n",
    "acq_test.drop(cols_todrop,axis=1,inplace=True)"
   ]
  },
  {
   "cell_type": "code",
   "execution_count": 11,
   "metadata": {},
   "outputs": [],
   "source": [
    "# Email typos\n",
    "\n",
    "def clean_replace(df, replace_dict):\n",
    "    for key in replace_dict:\n",
    "        for entry in replace_dict[key]:\n",
    "            df[key].replace(entry[0],entry[1],inplace=True)\n",
    "            \n",
    "\n",
    "replace_dict = {}\n",
    "replace_dict['email'] = [['gmaill.com','gmail.com'],['hotmaill.com','hotmail.com']]\n",
    "\n",
    "clean_replace(acq_train,replace_dict)\n",
    "clean_replace(acq_test,replace_dict)"
   ]
  },
  {
   "cell_type": "markdown",
   "metadata": {},
   "source": [
    "## Valores ausentes"
   ]
  },
  {
   "cell_type": "markdown",
   "metadata": {},
   "source": [
    "Além disso, como visto na análise, há alguns valores ausentes na variavél alvo. Uma vez que são poucos, vamos eliminá-los do conjunto de treino."
   ]
  },
  {
   "cell_type": "code",
   "execution_count": 12,
   "metadata": {},
   "outputs": [],
   "source": [
    "acq_train = acq_train[~acq_train['target_default'].isna()]"
   ]
  },
  {
   "cell_type": "markdown",
   "metadata": {},
   "source": [
    "Preenchemos com zero alguns valores de quantidade, como empréstimos não pagos e valor do último empréstimo, assumindo que se não sabemos então não houve. Já valores de taxas, como scores, são preenchidos com a média da coluna, de forma a não interferir muito no modelo."
   ]
  },
  {
   "cell_type": "code",
   "execution_count": 13,
   "metadata": {},
   "outputs": [],
   "source": [
    "def fill_mean(df, col):\n",
    "    df[col].fillna(df[col].mean(), inplace = True)\n",
    "    \n",
    "def fill_zero(df, col):\n",
    "    df[col].fillna(0, inplace = True)\n",
    "    \n",
    "cols_fill_mean = ['score_3', 'risk_rate']\n",
    "cols_fill_zero = ['n_defaulted_loans','last_amount_borrowed', 'last_borrowed_in_months']\n",
    "\n",
    "for c in cols_fill_mean:\n",
    "    fill_mean(acq_train,c)\n",
    "    fill_mean(acq_test,c)\n",
    "    \n",
    "for c in cols_fill_zero:\n",
    "    fill_zero(acq_train,c)\n",
    "    fill_zero(acq_test,c)"
   ]
  },
  {
   "cell_type": "markdown",
   "metadata": {},
   "source": [
    "Preenchemos os demais com -1 para sinalizar valor ausente."
   ]
  },
  {
   "cell_type": "code",
   "execution_count": 14,
   "metadata": {},
   "outputs": [],
   "source": [
    "acq_train.fillna(-1, inplace=True)\n",
    "acq_test.fillna(-1, inplace=True)"
   ]
  },
  {
   "cell_type": "markdown",
   "metadata": {},
   "source": [
    "## One-hot encoding"
   ]
  },
  {
   "cell_type": "markdown",
   "metadata": {},
   "source": [
    "Aplicamos one-hot encoding em valores categóricos com até 10 valores únicos. Este limite é imposto para evitar muitas colunas no dataset."
   ]
  },
  {
   "cell_type": "code",
   "execution_count": 15,
   "metadata": {},
   "outputs": [],
   "source": [
    "def OHE_by_unique(train, one_hot, limit):\n",
    "    \n",
    "    one_hot_cat = []\n",
    "\n",
    "    df = train.copy()\n",
    "    for c in one_hot:\n",
    "        if len(one_hot[c])>2 and len(one_hot[c]) < limit:\n",
    "            for val in one_hot[c]:\n",
    "                df[c+'_oh_' + str(val)] = (df[c].values == val).astype(np.int)\n",
    "                one_hot_cat.append(c+'_oh_' + str(val))\n",
    "                \n",
    "    return df, one_hot_cat"
   ]
  },
  {
   "cell_type": "code",
   "execution_count": 16,
   "metadata": {},
   "outputs": [],
   "source": [
    "one_hot = {c: list(acq_train[c].unique()) for c in category if c not in ['ids']}"
   ]
  },
  {
   "cell_type": "code",
   "execution_count": 17,
   "metadata": {},
   "outputs": [],
   "source": [
    "train_ohe, one_hot_cat = OHE_by_unique(acq_train, one_hot, 10)\n",
    "test_ohe, _ = OHE_by_unique(acq_test, one_hot, 10)"
   ]
  },
  {
   "cell_type": "markdown",
   "metadata": {},
   "source": [
    "## Label encoding"
   ]
  },
  {
   "cell_type": "markdown",
   "metadata": {},
   "source": [
    "A variável `score_1` apresenta certo grau de distinção entre as classes, como pode ser observado no gráfico:"
   ]
  },
  {
   "cell_type": "code",
   "execution_count": 18,
   "metadata": {},
   "outputs": [
    {
     "data": {
      "text/plain": [
       "<matplotlib.axes._subplots.AxesSubplot at 0x1a1f858668>"
      ]
     },
     "execution_count": 18,
     "metadata": {},
     "output_type": "execute_result"
    },
    {
     "data": {
      "image/png": "[encoded data removed]",
      "text/plain": [
       "<Figure size 432x288 with 1 Axes>"
      ]
     },
     "metadata": {
      "needs_background": "light"
     },
     "output_type": "display_data"
    }
   ],
   "source": [
    "sns.countplot(y='score_1',hue='target_default', data=acq_train)"
   ]
  },
  {
   "cell_type": "markdown",
   "metadata": {},
   "source": [
    "Por este motivo, fazemos também *label encoding* nesta variável, a fim de que possa ser escolhida pelo modelo."
   ]
  },
  {
   "cell_type": "code",
   "execution_count": 19,
   "metadata": {},
   "outputs": [],
   "source": [
    "train_ohe['score_1'] = train_ohe['score_1'].astype('category').cat.codes\n",
    "test_ohe['score_1'] = test_ohe['score_1'].astype('category').cat.codes"
   ]
  },
  {
   "cell_type": "markdown",
   "metadata": {},
   "source": [
    "# Modelagem"
   ]
  },
  {
   "cell_type": "markdown",
   "metadata": {},
   "source": [
    "## Seleção de *features*\n",
    "\n",
    "Definimos como target a variável binária de inadimplência, como dito anteriormente, e utilizamos um conjunto de variáveis como possibilidade para o modelo. Então treinamos um modelo simples de RandomForest e vemos quais são as principais features consideradas."
   ]
  },
  {
   "cell_type": "code",
   "execution_count": 20,
   "metadata": {},
   "outputs": [],
   "source": [
    "target = 'target_default'\n",
    "all_variables =  continuous + discrete + one_hot_cat + ['score_1', 'facebook_profile', target]\n",
    "input_only = [v for v in all_variables if v != target]"
   ]
  },
  {
   "cell_type": "code",
   "execution_count": 21,
   "metadata": {},
   "outputs": [],
   "source": [
    "def get_feature_importance_df(feature_importances, \n",
    "                              column_names, \n",
    "                              top_n=25):\n",
    "    \"\"\"Get feature importance data frame.\n",
    " \n",
    "    Parameters\n",
    "    ----------\n",
    "    feature_importances : numpy ndarray\n",
    "        Feature importances computed by an ensemble \n",
    "            model like random forest or boosting\n",
    "    column_names : array-like\n",
    "        Names of the columns in the same order as feature \n",
    "            importances\n",
    "    top_n : integer\n",
    "        Number of top features\n",
    " \n",
    "    Returns\n",
    "    -------\n",
    "    df : a Pandas data frame\n",
    " \n",
    "    \"\"\"\n",
    "     \n",
    "    imp_dict = dict(zip(column_names, \n",
    "                        feature_importances))\n",
    "    top_features = sorted(imp_dict, \n",
    "                          key=imp_dict.get, \n",
    "                          reverse=True)[0:top_n]\n",
    "    top_importances = [imp_dict[feature] for feature \n",
    "                          in top_features]\n",
    "    df = pd.DataFrame(data={'feature': top_features, \n",
    "                            'importance': top_importances})\n",
    "    return df"
   ]
  },
  {
   "cell_type": "code",
   "execution_count": 22,
   "metadata": {},
   "outputs": [],
   "source": [
    "train = train_ohe[all_variables]\n",
    "\n",
    "from sklearn.ensemble import RandomForestClassifier\n",
    "rf = RandomForestClassifier(n_estimators=150, max_depth=8, min_samples_leaf=5, max_features=0.2, n_jobs=-1, random_state=42)\n",
    "rf.fit(train.drop([target],axis=1), train[target])\n",
    "features = train.drop([target],axis=1).columns.values"
   ]
  },
  {
   "cell_type": "code",
   "execution_count": 23,
   "metadata": {},
   "outputs": [],
   "source": [
    "feature_importance = get_feature_importance_df(rf.feature_importances_, features)"
   ]
  },
  {
   "cell_type": "markdown",
   "metadata": {},
   "source": [
    "O gráfico a seguir mostra as 10 variáveis mais importantes de acordo com o modelo:"
   ]
  },
  {
   "cell_type": "code",
   "execution_count": 24,
   "metadata": {},
   "outputs": [
    {
     "data": {
      "text/plain": [
       "[Text(0, 0.5, 'Nome da variável'),\n",
       " Text(0.5, 0, 'Importância'),\n",
       " Text(0.5, 1.0, 'Importância das variáveis')]"
      ]
     },
     "execution_count": 24,
     "metadata": {},
     "output_type": "execute_result"
    },
    {
     "data": {
      "image/png": "[encoded data removed]",
      "text/plain": [
       "<Figure size 1440x720 with 1 Axes>"
      ]
     },
     "metadata": {
      "needs_background": "light"
     },
     "output_type": "display_data"
    }
   ],
   "source": [
    "fig,ax = plt.subplots()\n",
    "fig.set_size_inches(20,10)\n",
    "sns.barplot(data=feature_importance[:10],y=\"feature\",x=\"importance\",ax=ax)\n",
    "ax.set(ylabel='Nome da variável', xlabel='Importância',title=\"Importância das variáveis\")"
   ]
  },
  {
   "cell_type": "markdown",
   "metadata": {},
   "source": [
    "Note que aparecem `score_1` e duas variáveis criadas pelo one-hot encoding de `score_1`. \n",
    "Para evitar redundância no modelo, vamos deixar somente `score_1` e eliminar as variáveis de one-hot encoding."
   ]
  },
  {
   "cell_type": "code",
   "execution_count": 25,
   "metadata": {},
   "outputs": [],
   "source": [
    "all_variables = continuous + discrete + ['score_1', 'facebook_profile', target]\n",
    "input_only = [v for v in all_variables if v != target]"
   ]
  },
  {
   "cell_type": "code",
   "execution_count": 26,
   "metadata": {},
   "outputs": [],
   "source": [
    "train = train_ohe[all_variables]\n",
    "\n",
    "from sklearn.ensemble import RandomForestClassifier\n",
    "rf = RandomForestClassifier(n_estimators=150, max_depth=8, min_samples_leaf=5, max_features=0.2, n_jobs=-1, random_state=42)\n",
    "rf.fit(train.drop([target],axis=1), train[target])\n",
    "features = train.drop([target],axis=1).columns.values"
   ]
  },
  {
   "cell_type": "code",
   "execution_count": 27,
   "metadata": {},
   "outputs": [],
   "source": [
    "feature_importance = get_feature_importance_df(rf.feature_importances_, features)"
   ]
  },
  {
   "cell_type": "markdown",
   "metadata": {},
   "source": [
    "O gráfico a seguir mostra as 10 variáveis mais importantes de acordo com o modelo:"
   ]
  },
  {
   "cell_type": "code",
   "execution_count": 28,
   "metadata": {},
   "outputs": [
    {
     "data": {
      "text/plain": [
       "[Text(0, 0.5, 'Nome da variável'),\n",
       " Text(0.5, 0, 'Importância'),\n",
       " Text(0.5, 1.0, 'Importância das variáveis')]"
      ]
     },
     "execution_count": 28,
     "metadata": {},
     "output_type": "execute_result"
    },
    {
     "data": {
      "image/png": "[encoded data removed]",
      "text/plain": [
       "<Figure size 1440x720 with 1 Axes>"
      ]
     },
     "metadata": {
      "needs_background": "light"
     },
     "output_type": "display_data"
    }
   ],
   "source": [
    "fig,ax = plt.subplots()\n",
    "fig.set_size_inches(20,10)\n",
    "sns.barplot(data=feature_importance[:10],y=\"feature\",x=\"importance\",ax=ax)\n",
    "ax.set(ylabel='Nome da variável', xlabel='Importância',title=\"Importância das variáveis\")"
   ]
  },
  {
   "cell_type": "markdown",
   "metadata": {},
   "source": [
    "Utilizaremos estas variáveis no nosso modelo final."
   ]
  },
  {
   "cell_type": "code",
   "execution_count": 29,
   "metadata": {},
   "outputs": [],
   "source": [
    "variables = feature_importance[:10].feature.tolist()"
   ]
  },
  {
   "cell_type": "code",
   "execution_count": 30,
   "metadata": {},
   "outputs": [],
   "source": [
    "def cross_val_model(X,y, model, n_splits=5):\n",
    "    from sklearn.model_selection import StratifiedKFold\n",
    "    from sklearn.model_selection import cross_val_score\n",
    "    X = np.array(X)\n",
    "    y = np.array(y)\n",
    "\n",
    "\n",
    "    folds = list(StratifiedKFold(n_splits=n_splits, shuffle=True, random_state=42).split(X, y))\n",
    "\n",
    "    for j, (train_idx, test_idx) in enumerate(folds):\n",
    "        X_train = X[train_idx]\n",
    "        y_train = y[train_idx]\n",
    "        X_holdout = X[test_idx]\n",
    "        y_holdout = y[test_idx]\n",
    "\n",
    "        print (\"Fit %s fold %d\" % (str(model).split('(')[0], j+1))\n",
    "        model.fit(X_train, y_train)\n",
    "        cross_score = cross_val_score(model, X_holdout, y_holdout, cv=3, scoring='roc_auc')\n",
    "        print(\"    cross_score: %.5f\" % cross_score.mean())"
   ]
  },
  {
   "cell_type": "markdown",
   "metadata": {},
   "source": [
    "Escolhemos `StratifiedKFold` e a métrica `roc_auc` por se tratar de um conjunto enviesado, como visto na exploração dos dados. Em outras palavras, as classes possíveis para o alvo não estão balanceadas.\n",
    "\n",
    "Definimos a seguir `X` e `y` para os modelos."
   ]
  },
  {
   "cell_type": "code",
   "execution_count": 31,
   "metadata": {},
   "outputs": [],
   "source": [
    "train_ohe['facebook_profile'] = train_ohe['facebook_profile'].astype(np.int)\n",
    "test_ohe['facebook_profile'] = test_ohe['facebook_profile'].astype(np.int)\n",
    "X = train_ohe[variables]\n",
    "y = train_ohe[target]"
   ]
  },
  {
   "cell_type": "markdown",
   "metadata": {},
   "source": [
    "## Modelo - RandomForest"
   ]
  },
  {
   "cell_type": "markdown",
   "metadata": {},
   "source": [
    "Implementamos a seguir um modelo de RandomForest para classificação."
   ]
  },
  {
   "cell_type": "code",
   "execution_count": 32,
   "metadata": {},
   "outputs": [],
   "source": [
    "#RandomForest params\n",
    "rf_params = {}\n",
    "rf_params['n_estimators'] = 200\n",
    "rf_params['max_depth'] = 8\n",
    "rf_params['min_samples_split'] = 70\n",
    "rf_params['min_samples_leaf'] = 30\n",
    "\n",
    "rf_model = RandomForestClassifier(**rf_params)"
   ]
  },
  {
   "cell_type": "code",
   "execution_count": 33,
   "metadata": {},
   "outputs": [
    {
     "name": "stdout",
     "output_type": "stream",
     "text": [
      "Fit RandomForestClassifier fold 1\n",
      "    cross_score: 0.72296\n",
      "Fit RandomForestClassifier fold 2\n",
      "    cross_score: 0.72692\n",
      "Fit RandomForestClassifier fold 3\n",
      "    cross_score: 0.72300\n",
      "Fit RandomForestClassifier fold 4\n",
      "    cross_score: 0.72326\n",
      "Fit RandomForestClassifier fold 5\n",
      "    cross_score: 0.71850\n"
     ]
    }
   ],
   "source": [
    "cross_val_model(X, y, rf_model)"
   ]
  },
  {
   "cell_type": "markdown",
   "metadata": {},
   "source": [
    "### Otimização de parâmetros"
   ]
  },
  {
   "cell_type": "markdown",
   "metadata": {},
   "source": [
    "Uma vez que temos o modelo pronto, vamos tentar otimizar alguns parâmetros do modelo."
   ]
  },
  {
   "cell_type": "code",
   "execution_count": 34,
   "metadata": {},
   "outputs": [],
   "source": [
    "from sklearn.model_selection import GridSearchCV\n",
    "\n",
    "rf_model = RandomForestClassifier()\n",
    "\n",
    "rf_grid_params= {'n_estimators':[200,250],\n",
    "                 'max_depth':[8,10,12,15], \n",
    "                 'min_samples_leaf': [10,20,30,40], \n",
    "                 'min_samples_split':[50,60,70,80]}\n",
    "\n",
    "rf_grid = GridSearchCV(rf_model,rf_grid_params,scoring='roc_auc')"
   ]
  },
  {
   "cell_type": "code",
   "execution_count": 35,
   "metadata": {},
   "outputs": [
    {
     "data": {
      "text/plain": [
       "RandomForestClassifier(bootstrap=True, class_weight=None, criterion='gini',\n",
       "            max_depth=8, max_features='auto', max_leaf_nodes=None,\n",
       "            min_impurity_decrease=0.0, min_impurity_split=None,\n",
       "            min_samples_leaf=30, min_samples_split=70,\n",
       "            min_weight_fraction_leaf=0.0, n_estimators=250, n_jobs=1,\n",
       "            oob_score=False, random_state=None, verbose=0,\n",
       "            warm_start=False)"
      ]
     },
     "execution_count": 35,
     "metadata": {},
     "output_type": "execute_result"
    }
   ],
   "source": [
    "run_gs = False\n",
    "if run_gs:\n",
    "    rf_best = rf_grid.fit(X,y)\n",
    "    rf_model = rf_best.best_estimator_\n",
    "else:\n",
    "    rf_best_params = {'max_depth': 8,\n",
    "     'min_samples_leaf': 30,\n",
    "     'min_samples_split': 70,\n",
    "     'n_estimators': 250}\n",
    "    rf_model = RandomForestClassifier(**rf_best_params)\n",
    "    \n",
    "rf_model"
   ]
  },
  {
   "cell_type": "code",
   "execution_count": 36,
   "metadata": {},
   "outputs": [
    {
     "name": "stdout",
     "output_type": "stream",
     "text": [
      "Fit RandomForestClassifier fold 1\n",
      "    cross_score: 0.72380\n",
      "Fit RandomForestClassifier fold 2\n",
      "    cross_score: 0.72664\n",
      "Fit RandomForestClassifier fold 3\n",
      "    cross_score: 0.72170\n",
      "Fit RandomForestClassifier fold 4\n",
      "    cross_score: 0.72440\n",
      "Fit RandomForestClassifier fold 5\n",
      "    cross_score: 0.71801\n"
     ]
    }
   ],
   "source": [
    "cross_val_model(X, y, rf_model)"
   ]
  },
  {
   "cell_type": "markdown",
   "metadata": {},
   "source": [
    "Percebemos que os scores não melhoraram muito. Vamos testar outro modelo."
   ]
  },
  {
   "cell_type": "markdown",
   "metadata": {},
   "source": [
    "## Modelo - LightGBM"
   ]
  },
  {
   "cell_type": "markdown",
   "metadata": {},
   "source": [
    "Implementamos a seguir um modelo LightGBM para classificação."
   ]
  },
  {
   "cell_type": "code",
   "execution_count": 37,
   "metadata": {},
   "outputs": [],
   "source": [
    "import lightgbm as lgb\n",
    "from sklearn.metrics import roc_auc_score\n",
    "\n",
    "lgb_params = {\"objective\": \"binary\",\n",
    "          \"boosting_type\": \"gbdt\",\n",
    "          \"learning_rate\": 0.1,\n",
    "          \"num_leaves\": 15,\n",
    "           \"max_bin\": 256,\n",
    "          \"verbosity\": 0,\n",
    "          \"drop_rate\": 0.1,\n",
    "          \"is_unbalance\": True,\n",
    "          \"max_drop\": 50,\n",
    "          \"min_child_samples\": 10,\n",
    "          \"min_child_weight\": 150,\n",
    "          \"min_split_gain\": 15,\n",
    "          \"subsample\": 0.9\n",
    "          }"
   ]
  },
  {
   "cell_type": "code",
   "execution_count": 38,
   "metadata": {},
   "outputs": [
    {
     "name": "stdout",
     "output_type": "stream",
     "text": [
      "Fit LGBMClassifier fold 1\n",
      "    cross_score: 0.73470\n",
      "Fit LGBMClassifier fold 2\n",
      "    cross_score: 0.73279\n",
      "Fit LGBMClassifier fold 3\n",
      "    cross_score: 0.73521\n",
      "Fit LGBMClassifier fold 4\n",
      "    cross_score: 0.73635\n",
      "Fit LGBMClassifier fold 5\n",
      "    cross_score: 0.72522\n"
     ]
    }
   ],
   "source": [
    "lgb_model = lgb.LGBMClassifier(**lgb_params)\n",
    "cross_val_model(X,y,lgb_model)"
   ]
  },
  {
   "cell_type": "markdown",
   "metadata": {},
   "source": [
    "### Otimização de parâmetros"
   ]
  },
  {
   "cell_type": "markdown",
   "metadata": {},
   "source": [
    "Com o modelo pronto, vamos tentar otimizar alguns parâmetros do modelo."
   ]
  },
  {
   "cell_type": "code",
   "execution_count": 39,
   "metadata": {},
   "outputs": [],
   "source": [
    "from sklearn.model_selection import GridSearchCV\n",
    "\n",
    "lgb_X_train = lgb.Dataset(X, label=y)\n",
    "lgb_model = lgb.LGBMClassifier(**lgb_params)\n",
    "\n",
    "lgb_grid_params = {\"objective\": [\"binary\"],\n",
    "          \"boosting_type\": [\"gbdt\"],\n",
    "          \"learning_rate\": [0.02,0.05,0.1],\n",
    "          \"num_leaves\": [10,15,20],\n",
    "           \"max_bin\": [256],\n",
    "          \"verbosity\": [0],\n",
    "          \"drop_rate\": [0.1],\n",
    "          \"is_unbalance\": [True],\n",
    "          \"max_drop\": [40,50,60],\n",
    "          \"min_child_samples\": [10],\n",
    "          \"min_child_weight\": [100,150],\n",
    "          \"min_split_gain\": [15],\n",
    "          \"subsample\": [0.7,0.9],\n",
    "          \"n_estimators\":[150,200,250]\n",
    "          }\n",
    "\n",
    "lgb_grid = GridSearchCV(lgb_model,lgb_grid_params,scoring='roc_auc')"
   ]
  },
  {
   "cell_type": "code",
   "execution_count": 40,
   "metadata": {},
   "outputs": [
    {
     "data": {
      "text/plain": [
       "LGBMClassifier(boosting_type='gbdt', class_weight=None, colsample_bytree=1.0,\n",
       "        drop_rate=0.1, is_unbalance=True, learning_rate=0.05, max_bin=256,\n",
       "        max_depth=-1, max_drop=40, min_child_samples=10,\n",
       "        min_child_weight=100, min_split_gain=15, n_estimators=150,\n",
       "        n_jobs=-1, num_leaves=10, objective='binary', random_state=None,\n",
       "        reg_alpha=0.0, reg_lambda=0.0, silent=True, subsample=0.7,\n",
       "        subsample_for_bin=200000, subsample_freq=0, verbosity=0)"
      ]
     },
     "execution_count": 40,
     "metadata": {},
     "output_type": "execute_result"
    }
   ],
   "source": [
    "run_gs = False\n",
    "if run_gs:\n",
    "    lgb_best = lgb_grid.fit(X,y)\n",
    "    lgb_model = lgb_grid.best_estimator_\n",
    "else:\n",
    "    lgb_best_params = {'boosting_type': 'gbdt',\n",
    " 'drop_rate': 0.1,\n",
    " 'is_unbalance': True,\n",
    " 'learning_rate': 0.05,\n",
    " 'max_bin': 256,\n",
    " 'max_drop': 40,\n",
    " 'min_child_samples': 10,\n",
    " 'min_child_weight': 100,\n",
    " 'min_split_gain': 15,\n",
    " 'n_estimators': 150,\n",
    " 'num_leaves': 10,\n",
    " 'objective': 'binary',\n",
    " 'subsample': 0.7,\n",
    " 'verbosity': 0}\n",
    "    \n",
    "    lgb_model = lgb.LGBMClassifier(**lgb_best_params)\n",
    "    \n",
    "lgb_model"
   ]
  },
  {
   "cell_type": "code",
   "execution_count": 41,
   "metadata": {},
   "outputs": [
    {
     "name": "stdout",
     "output_type": "stream",
     "text": [
      "Fit LGBMClassifier fold 1\n",
      "    cross_score: 0.73858\n",
      "Fit LGBMClassifier fold 2\n",
      "    cross_score: 0.73346\n",
      "Fit LGBMClassifier fold 3\n",
      "    cross_score: 0.73545\n",
      "Fit LGBMClassifier fold 4\n",
      "    cross_score: 0.73697\n",
      "Fit LGBMClassifier fold 5\n",
      "    cross_score: 0.72594\n"
     ]
    }
   ],
   "source": [
    "cross_val_model(X, y, lgb_model)"
   ]
  },
  {
   "cell_type": "markdown",
   "metadata": {},
   "source": [
    "## Análise do resultado"
   ]
  },
  {
   "cell_type": "markdown",
   "metadata": {},
   "source": [
    "Analisamos a seguir como fica a distribuição dos valores da predição no próprio conjunto de treino, para termos uma noção de como cada modelo performa. Criamos ainda um outro campo de predição, `pred_comb`, com a média dos dois modelos."
   ]
  },
  {
   "cell_type": "code",
   "execution_count": 42,
   "metadata": {},
   "outputs": [],
   "source": [
    "train_pred = train_ohe.copy()\n",
    "X_pred = train_ohe[variables]\n",
    "train_pred['pred_rf'] = rf_model.predict_proba(X_pred)[:,1]\n",
    "train_pred['pred_lgb'] = lgb_model.predict_proba(X_pred)[:,1]\n",
    "\n",
    "train_pred['pred_comb'] = 0.5*train_pred['pred_rf'] + 0.5*train_pred['pred_lgb']"
   ]
  },
  {
   "cell_type": "markdown",
   "metadata": {},
   "source": [
    "Vejamos as distribuições."
   ]
  },
  {
   "cell_type": "code",
   "execution_count": 43,
   "metadata": {},
   "outputs": [
    {
     "data": {
      "text/plain": [
       "Text(0.5, 0, 'Probabilidades')"
      ]
     },
     "execution_count": 43,
     "metadata": {},
     "output_type": "execute_result"
    },
    {
     "data": {
      "image/png": "[encoded data removed]",
      "text/plain": [
       "<Figure size 432x288 with 1 Axes>"
      ]
     },
     "metadata": {
      "needs_background": "light"
     },
     "output_type": "display_data"
    }
   ],
   "source": [
    "sns.distplot(train_pred[train_pred[target]==True].pred_rf, norm_hist=True, kde=False, color='r')\n",
    "sns.distplot(train_pred[train_pred[target]==False].pred_rf, norm_hist=True, kde=False, color='b')\n",
    "plt.title('Distribuições de adimplentes/inadimplentes')\n",
    "plt.xlabel('Probabilidades')"
   ]
  },
  {
   "cell_type": "code",
   "execution_count": 44,
   "metadata": {},
   "outputs": [
    {
     "data": {
      "text/plain": [
       "Text(0.5, 0, 'Probabilidades')"
      ]
     },
     "execution_count": 44,
     "metadata": {},
     "output_type": "execute_result"
    },
    {
     "data": {
      "image/png": "[encoded data removed]",
      "text/plain": [
       "<Figure size 432x288 with 1 Axes>"
      ]
     },
     "metadata": {
      "needs_background": "light"
     },
     "output_type": "display_data"
    }
   ],
   "source": [
    "sns.distplot(train_pred[train_pred[target]==True].pred_lgb, norm_hist=True, kde=False, color='r')\n",
    "sns.distplot(train_pred[train_pred[target]==False].pred_lgb, norm_hist=True, kde=False, color='b')\n",
    "plt.title('Distribuições de adimplentes/inadimplentes')\n",
    "plt.xlabel('Probabilidades')"
   ]
  },
  {
   "cell_type": "markdown",
   "metadata": {},
   "source": [
    "Como podemos observar, o modelo de RandomForest faz um bom trabalho em manter os casos adimplentes \n",
    "à esquerda, com probabilidade próxima a zero, o que não ocorre no segundo gráfico. Já o modelo LGB consegue manter\n",
    "altas as probabilidades para casos de inadimplência. Tomamos então como resultado a média dos dois, representado abaixo, de modo a tornar o modelo mais robusto."
   ]
  },
  {
   "cell_type": "code",
   "execution_count": 45,
   "metadata": {},
   "outputs": [
    {
     "data": {
      "text/plain": [
       "Text(0.5, 0, 'Probabilidades')"
      ]
     },
     "execution_count": 45,
     "metadata": {},
     "output_type": "execute_result"
    },
    {
     "data": {
      "image/png": "[encoded data removed]",
      "text/plain": [
       "<Figure size 432x288 with 1 Axes>"
      ]
     },
     "metadata": {
      "needs_background": "light"
     },
     "output_type": "display_data"
    }
   ],
   "source": [
    "sns.distplot(train_pred[train_pred[target]==True].pred_comb, norm_hist=True, kde=False, color='r')\n",
    "sns.distplot(train_pred[train_pred[target]==False].pred_comb, norm_hist=True, kde=False, color='b')\n",
    "plt.title('Distribuições de adimplentes/inadimplentes')\n",
    "plt.xlabel('Probabilidades')"
   ]
  },
  {
   "cell_type": "markdown",
   "metadata": {},
   "source": [
    "## Saída"
   ]
  },
  {
   "cell_type": "code",
   "execution_count": 46,
   "metadata": {},
   "outputs": [],
   "source": [
    "output = pd.DataFrame(columns=['ids','default'])\n",
    "output['ids'] = test_ohe['ids'].values\n",
    "output_rf = rf_model.predict_proba(test_ohe[variables])[:,1]\n",
    "output_lgb = lgb_model.predict_proba(test_ohe[variables])[:,1]\n",
    "output['default'] = 0.5*output_rf + 0.5*output_lgb\n",
    "output.to_csv('default.csv', index=False)"
   ]
  }
 ],
 "metadata": {
  "kernelspec": {
   "display_name": "Python 3",
   "language": "python",
   "name": "python3"
  },
  "language_info": {
   "codemirror_mode": {
    "name": "ipython",
    "version": 3
   },
   "file_extension": ".py",
   "mimetype": "text/x-python",
   "name": "python",
   "nbconvert_exporter": "python",
   "pygments_lexer": "ipython3",
   "version": "3.6.6"
  }
 },
 "nbformat": 4,
 "nbformat_minor": 2
}
